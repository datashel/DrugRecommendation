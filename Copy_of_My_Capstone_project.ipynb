{
  "nbformat": 4,
  "nbformat_minor": 0,
  "metadata": {
    "colab": {
      "name": "Copy of My Capstone project.ipynb",
      "version": "0.3.2",
      "provenance": [],
      "collapsed_sections": []
    },
    "language_info": {
      "codemirror_mode": {
        "name": "ipython",
        "version": 3
      },
      "file_extension": ".py",
      "mimetype": "text/x-python",
      "name": "python",
      "nbconvert_exporter": "python",
      "pygments_lexer": "ipython3",
      "version": "3.7.0"
    },
    "kernelspec": {
      "display_name": "Python 3",
      "language": "python",
      "name": "python3"
    }
  },
  "cells": [
    {
      "cell_type": "code",
      "metadata": {
        "id": "VJGuPfe-G7Kc",
        "colab_type": "code",
        "colab": {}
      },
      "source": [
        "import pandas as pd\n",
        "from six.moves import cPickle\n",
        "import numpy as np\n",
        "from scipy.sparse import csr_matrix\n",
        "from sklearn.decomposition import TruncatedSVD\n",
        "from scipy.sparse.linalg import svds\n",
        "import matplotlib.pyplot as plt\n",
        "from sklearn.metrics import mean_squared_error\n",
        "%matplotlib inline\n",
        "\n",
        "import warnings\n",
        "warnings.filterwarnings(\"ignore\")"
      ],
      "execution_count": 0,
      "outputs": []
    },
    {
      "cell_type": "code",
      "metadata": {
        "id": "pJsf86eqIkD5",
        "colab_type": "code",
        "outputId": "8f180b2e-c119-4c70-b3fc-347558fe5d8d",
        "colab": {
          "resources": {
            "http://localhost:8080/nbextensions/google.colab/files.js": {
              "data": "Ly8gQ29weXJpZ2h0IDIwMTcgR29vZ2xlIExMQwovLwovLyBMaWNlbnNlZCB1bmRlciB0aGUgQXBhY2hlIExpY2Vuc2UsIFZlcnNpb24gMi4wICh0aGUgIkxpY2Vuc2UiKTsKLy8geW91IG1heSBub3QgdXNlIHRoaXMgZmlsZSBleGNlcHQgaW4gY29tcGxpYW5jZSB3aXRoIHRoZSBMaWNlbnNlLgovLyBZb3UgbWF5IG9idGFpbiBhIGNvcHkgb2YgdGhlIExpY2Vuc2UgYXQKLy8KLy8gICAgICBodHRwOi8vd3d3LmFwYWNoZS5vcmcvbGljZW5zZXMvTElDRU5TRS0yLjAKLy8KLy8gVW5sZXNzIHJlcXVpcmVkIGJ5IGFwcGxpY2FibGUgbGF3IG9yIGFncmVlZCB0byBpbiB3cml0aW5nLCBzb2Z0d2FyZQovLyBkaXN0cmlidXRlZCB1bmRlciB0aGUgTGljZW5zZSBpcyBkaXN0cmlidXRlZCBvbiBhbiAiQVMgSVMiIEJBU0lTLAovLyBXSVRIT1VUIFdBUlJBTlRJRVMgT1IgQ09ORElUSU9OUyBPRiBBTlkgS0lORCwgZWl0aGVyIGV4cHJlc3Mgb3IgaW1wbGllZC4KLy8gU2VlIHRoZSBMaWNlbnNlIGZvciB0aGUgc3BlY2lmaWMgbGFuZ3VhZ2UgZ292ZXJuaW5nIHBlcm1pc3Npb25zIGFuZAovLyBsaW1pdGF0aW9ucyB1bmRlciB0aGUgTGljZW5zZS4KCi8qKgogKiBAZmlsZW92ZXJ2aWV3IEhlbHBlcnMgZm9yIGdvb2dsZS5jb2xhYiBQeXRob24gbW9kdWxlLgogKi8KKGZ1bmN0aW9uKHNjb3BlKSB7CmZ1bmN0aW9uIHNwYW4odGV4dCwgc3R5bGVBdHRyaWJ1dGVzID0ge30pIHsKICBjb25zdCBlbGVtZW50ID0gZG9jdW1lbnQuY3JlYXRlRWxlbWVudCgnc3BhbicpOwogIGVsZW1lbnQudGV4dENvbnRlbnQgPSB0ZXh0OwogIGZvciAoY29uc3Qga2V5IG9mIE9iamVjdC5rZXlzKHN0eWxlQXR0cmlidXRlcykpIHsKICAgIGVsZW1lbnQuc3R5bGVba2V5XSA9IHN0eWxlQXR0cmlidXRlc1trZXldOwogIH0KICByZXR1cm4gZWxlbWVudDsKfQoKLy8gTWF4IG51bWJlciBvZiBieXRlcyB3aGljaCB3aWxsIGJlIHVwbG9hZGVkIGF0IGEgdGltZS4KY29uc3QgTUFYX1BBWUxPQURfU0laRSA9IDEwMCAqIDEwMjQ7Ci8vIE1heCBhbW91bnQgb2YgdGltZSB0byBibG9jayB3YWl0aW5nIGZvciB0aGUgdXNlci4KY29uc3QgRklMRV9DSEFOR0VfVElNRU9VVF9NUyA9IDMwICogMTAwMDsKCmZ1bmN0aW9uIF91cGxvYWRGaWxlcyhpbnB1dElkLCBvdXRwdXRJZCkgewogIGNvbnN0IHN0ZXBzID0gdXBsb2FkRmlsZXNTdGVwKGlucHV0SWQsIG91dHB1dElkKTsKICBjb25zdCBvdXRwdXRFbGVtZW50ID0gZG9jdW1lbnQuZ2V0RWxlbWVudEJ5SWQob3V0cHV0SWQpOwogIC8vIENhY2hlIHN0ZXBzIG9uIHRoZSBvdXRwdXRFbGVtZW50IHRvIG1ha2UgaXQgYXZhaWxhYmxlIGZvciB0aGUgbmV4dCBjYWxsCiAgLy8gdG8gdXBsb2FkRmlsZXNDb250aW51ZSBmcm9tIFB5dGhvbi4KICBvdXRwdXRFbGVtZW50LnN0ZXBzID0gc3RlcHM7CgogIHJldHVybiBfdXBsb2FkRmlsZXNDb250aW51ZShvdXRwdXRJZCk7Cn0KCi8vIFRoaXMgaXMgcm91Z2hseSBhbiBhc3luYyBnZW5lcmF0b3IgKG5vdCBzdXBwb3J0ZWQgaW4gdGhlIGJyb3dzZXIgeWV0KSwKLy8gd2hlcmUgdGhlcmUgYXJlIG11bHRpcGxlIGFzeW5jaHJvbm91cyBzdGVwcyBhbmQgdGhlIFB5dGhvbiBzaWRlIGlzIGdvaW5nCi8vIHRvIHBvbGwgZm9yIGNvbXBsZXRpb24gb2YgZWFjaCBzdGVwLgovLyBUaGlzIHVzZXMgYSBQcm9taXNlIHRvIGJsb2NrIHRoZSBweXRob24gc2lkZSBvbiBjb21wbGV0aW9uIG9mIGVhY2ggc3RlcCwKLy8gdGhlbiBwYXNzZXMgdGhlIHJlc3VsdCBvZiB0aGUgcHJldmlvdXMgc3RlcCBhcyB0aGUgaW5wdXQgdG8gdGhlIG5leHQgc3RlcC4KZnVuY3Rpb24gX3VwbG9hZEZpbGVzQ29udGludWUob3V0cHV0SWQpIHsKICBjb25zdCBvdXRwdXRFbGVtZW50ID0gZG9jdW1lbnQuZ2V0RWxlbWVudEJ5SWQob3V0cHV0SWQpOwogIGNvbnN0IHN0ZXBzID0gb3V0cHV0RWxlbWVudC5zdGVwczsKCiAgY29uc3QgbmV4dCA9IHN0ZXBzLm5leHQob3V0cHV0RWxlbWVudC5sYXN0UHJvbWlzZVZhbHVlKTsKICByZXR1cm4gUHJvbWlzZS5yZXNvbHZlKG5leHQudmFsdWUucHJvbWlzZSkudGhlbigodmFsdWUpID0+IHsKICAgIC8vIENhY2hlIHRoZSBsYXN0IHByb21pc2UgdmFsdWUgdG8gbWFrZSBpdCBhdmFpbGFibGUgdG8gdGhlIG5leHQKICAgIC8vIHN0ZXAgb2YgdGhlIGdlbmVyYXRvci4KICAgIG91dHB1dEVsZW1lbnQubGFzdFByb21pc2VWYWx1ZSA9IHZhbHVlOwogICAgcmV0dXJuIG5leHQudmFsdWUucmVzcG9uc2U7CiAgfSk7Cn0KCi8qKgogKiBHZW5lcmF0b3IgZnVuY3Rpb24gd2hpY2ggaXMgY2FsbGVkIGJldHdlZW4gZWFjaCBhc3luYyBzdGVwIG9mIHRoZSB1cGxvYWQKICogcHJvY2Vzcy4KICogQHBhcmFtIHtzdHJpbmd9IGlucHV0SWQgRWxlbWVudCBJRCBvZiB0aGUgaW5wdXQgZmlsZSBwaWNrZXIgZWxlbWVudC4KICogQHBhcmFtIHtzdHJpbmd9IG91dHB1dElkIEVsZW1lbnQgSUQgb2YgdGhlIG91dHB1dCBkaXNwbGF5LgogKiBAcmV0dXJuIHshSXRlcmFibGU8IU9iamVjdD59IEl0ZXJhYmxlIG9mIG5leHQgc3RlcHMuCiAqLwpmdW5jdGlvbiogdXBsb2FkRmlsZXNTdGVwKGlucHV0SWQsIG91dHB1dElkKSB7CiAgY29uc3QgaW5wdXRFbGVtZW50ID0gZG9jdW1lbnQuZ2V0RWxlbWVudEJ5SWQoaW5wdXRJZCk7CiAgaW5wdXRFbGVtZW50LmRpc2FibGVkID0gZmFsc2U7CgogIGNvbnN0IG91dHB1dEVsZW1lbnQgPSBkb2N1bWVudC5nZXRFbGVtZW50QnlJZChvdXRwdXRJZCk7CiAgb3V0cHV0RWxlbWVudC5pbm5lckhUTUwgPSAnJzsKCiAgY29uc3QgcGlja2VkUHJvbWlzZSA9IG5ldyBQcm9taXNlKChyZXNvbHZlKSA9PiB7CiAgICBpbnB1dEVsZW1lbnQuYWRkRXZlbnRMaXN0ZW5lcignY2hhbmdlJywgKGUpID0+IHsKICAgICAgcmVzb2x2ZShlLnRhcmdldC5maWxlcyk7CiAgICB9KTsKICB9KTsKCiAgY29uc3QgY2FuY2VsID0gZG9jdW1lbnQuY3JlYXRlRWxlbWVudCgnYnV0dG9uJyk7CiAgaW5wdXRFbGVtZW50LnBhcmVudEVsZW1lbnQuYXBwZW5kQ2hpbGQoY2FuY2VsKTsKICBjYW5jZWwudGV4dENvbnRlbnQgPSAnQ2FuY2VsIHVwbG9hZCc7CiAgY29uc3QgY2FuY2VsUHJvbWlzZSA9IG5ldyBQcm9taXNlKChyZXNvbHZlKSA9PiB7CiAgICBjYW5jZWwub25jbGljayA9ICgpID0+IHsKICAgICAgcmVzb2x2ZShudWxsKTsKICAgIH07CiAgfSk7CgogIC8vIENhbmNlbCB1cGxvYWQgaWYgdXNlciBoYXNuJ3QgcGlja2VkIGFueXRoaW5nIGluIHRpbWVvdXQuCiAgY29uc3QgdGltZW91dFByb21pc2UgPSBuZXcgUHJvbWlzZSgocmVzb2x2ZSkgPT4gewogICAgc2V0VGltZW91dCgoKSA9PiB7CiAgICAgIHJlc29sdmUobnVsbCk7CiAgICB9LCBGSUxFX0NIQU5HRV9USU1FT1VUX01TKTsKICB9KTsKCiAgLy8gV2FpdCBmb3IgdGhlIHVzZXIgdG8gcGljayB0aGUgZmlsZXMuCiAgY29uc3QgZmlsZXMgPSB5aWVsZCB7CiAgICBwcm9taXNlOiBQcm9taXNlLnJhY2UoW3BpY2tlZFByb21pc2UsIHRpbWVvdXRQcm9taXNlLCBjYW5jZWxQcm9taXNlXSksCiAgICByZXNwb25zZTogewogICAgICBhY3Rpb246ICdzdGFydGluZycsCiAgICB9CiAgfTsKCiAgaWYgKCFmaWxlcykgewogICAgcmV0dXJuIHsKICAgICAgcmVzcG9uc2U6IHsKICAgICAgICBhY3Rpb246ICdjb21wbGV0ZScsCiAgICAgIH0KICAgIH07CiAgfQoKICBjYW5jZWwucmVtb3ZlKCk7CgogIC8vIERpc2FibGUgdGhlIGlucHV0IGVsZW1lbnQgc2luY2UgZnVydGhlciBwaWNrcyBhcmUgbm90IGFsbG93ZWQuCiAgaW5wdXRFbGVtZW50LmRpc2FibGVkID0gdHJ1ZTsKCiAgZm9yIChjb25zdCBmaWxlIG9mIGZpbGVzKSB7CiAgICBjb25zdCBsaSA9IGRvY3VtZW50LmNyZWF0ZUVsZW1lbnQoJ2xpJyk7CiAgICBsaS5hcHBlbmQoc3BhbihmaWxlLm5hbWUsIHtmb250V2VpZ2h0OiAnYm9sZCd9KSk7CiAgICBsaS5hcHBlbmQoc3BhbigKICAgICAgICBgKCR7ZmlsZS50eXBlIHx8ICduL2EnfSkgLSAke2ZpbGUuc2l6ZX0gYnl0ZXMsIGAgKwogICAgICAgIGBsYXN0IG1vZGlmaWVkOiAkewogICAgICAgICAgICBmaWxlLmxhc3RNb2RpZmllZERhdGUgPyBmaWxlLmxhc3RNb2RpZmllZERhdGUudG9Mb2NhbGVEYXRlU3RyaW5nKCkgOgogICAgICAgICAgICAgICAgICAgICAgICAgICAgICAgICAgICAnbi9hJ30gLSBgKSk7CiAgICBjb25zdCBwZXJjZW50ID0gc3BhbignMCUgZG9uZScpOwogICAgbGkuYXBwZW5kQ2hpbGQocGVyY2VudCk7CgogICAgb3V0cHV0RWxlbWVudC5hcHBlbmRDaGlsZChsaSk7CgogICAgY29uc3QgZmlsZURhdGFQcm9taXNlID0gbmV3IFByb21pc2UoKHJlc29sdmUpID0+IHsKICAgICAgY29uc3QgcmVhZGVyID0gbmV3IEZpbGVSZWFkZXIoKTsKICAgICAgcmVhZGVyLm9ubG9hZCA9IChlKSA9PiB7CiAgICAgICAgcmVzb2x2ZShlLnRhcmdldC5yZXN1bHQpOwogICAgICB9OwogICAgICByZWFkZXIucmVhZEFzQXJyYXlCdWZmZXIoZmlsZSk7CiAgICB9KTsKICAgIC8vIFdhaXQgZm9yIHRoZSBkYXRhIHRvIGJlIHJlYWR5LgogICAgbGV0IGZpbGVEYXRhID0geWllbGQgewogICAgICBwcm9taXNlOiBmaWxlRGF0YVByb21pc2UsCiAgICAgIHJlc3BvbnNlOiB7CiAgICAgICAgYWN0aW9uOiAnY29udGludWUnLAogICAgICB9CiAgICB9OwoKICAgIC8vIFVzZSBhIGNodW5rZWQgc2VuZGluZyB0byBhdm9pZCBtZXNzYWdlIHNpemUgbGltaXRzLiBTZWUgYi82MjExNTY2MC4KICAgIGxldCBwb3NpdGlvbiA9IDA7CiAgICB3aGlsZSAocG9zaXRpb24gPCBmaWxlRGF0YS5ieXRlTGVuZ3RoKSB7CiAgICAgIGNvbnN0IGxlbmd0aCA9IE1hdGgubWluKGZpbGVEYXRhLmJ5dGVMZW5ndGggLSBwb3NpdGlvbiwgTUFYX1BBWUxPQURfU0laRSk7CiAgICAgIGNvbnN0IGNodW5rID0gbmV3IFVpbnQ4QXJyYXkoZmlsZURhdGEsIHBvc2l0aW9uLCBsZW5ndGgpOwogICAgICBwb3NpdGlvbiArPSBsZW5ndGg7CgogICAgICBjb25zdCBiYXNlNjQgPSBidG9hKFN0cmluZy5mcm9tQ2hhckNvZGUuYXBwbHkobnVsbCwgY2h1bmspKTsKICAgICAgeWllbGQgewogICAgICAgIHJlc3BvbnNlOiB7CiAgICAgICAgICBhY3Rpb246ICdhcHBlbmQnLAogICAgICAgICAgZmlsZTogZmlsZS5uYW1lLAogICAgICAgICAgZGF0YTogYmFzZTY0LAogICAgICAgIH0sCiAgICAgIH07CiAgICAgIHBlcmNlbnQudGV4dENvbnRlbnQgPQogICAgICAgICAgYCR7TWF0aC5yb3VuZCgocG9zaXRpb24gLyBmaWxlRGF0YS5ieXRlTGVuZ3RoKSAqIDEwMCl9JSBkb25lYDsKICAgIH0KICB9CgogIC8vIEFsbCBkb25lLgogIHlpZWxkIHsKICAgIHJlc3BvbnNlOiB7CiAgICAgIGFjdGlvbjogJ2NvbXBsZXRlJywKICAgIH0KICB9Owp9CgpzY29wZS5nb29nbGUgPSBzY29wZS5nb29nbGUgfHwge307CnNjb3BlLmdvb2dsZS5jb2xhYiA9IHNjb3BlLmdvb2dsZS5jb2xhYiB8fCB7fTsKc2NvcGUuZ29vZ2xlLmNvbGFiLl9maWxlcyA9IHsKICBfdXBsb2FkRmlsZXMsCiAgX3VwbG9hZEZpbGVzQ29udGludWUsCn07Cn0pKHNlbGYpOwo=",
              "ok": true,
              "headers": [
                [
                  "content-type",
                  "application/javascript"
                ]
              ],
              "status": 200,
              "status_text": ""
            }
          },
          "base_uri": "https://localhost:8080/",
          "height": 108
        }
      },
      "source": [
        "from google.colab import files\n",
        "uploaded = files.upload()"
      ],
      "execution_count": 0,
      "outputs": [
        {
          "output_type": "display_data",
          "data": {
            "text/html": [
              "\n",
              "     <input type=\"file\" id=\"files-dd7f0839-3a95-4efe-921e-8eb8180ed0f5\" name=\"files[]\" multiple disabled />\n",
              "     <output id=\"result-dd7f0839-3a95-4efe-921e-8eb8180ed0f5\">\n",
              "      Upload widget is only available when the cell has been executed in the\n",
              "      current browser session. Please rerun this cell to enable.\n",
              "      </output>\n",
              "      <script src=\"/nbextensions/google.colab/files.js\"></script> "
            ],
            "text/plain": [
              "<IPython.core.display.HTML object>"
            ]
          },
          "metadata": {
            "tags": []
          }
        },
        {
          "output_type": "stream",
          "text": [
            "Saving drugs_test.csv to drugs_test.csv\n",
            "Saving drugs_train.csv to drugs_train.csv\n"
          ],
          "name": "stdout"
        }
      ]
    },
    {
      "cell_type": "code",
      "metadata": {
        "id": "_5FpIKMEG7Kg",
        "colab_type": "code",
        "colab": {}
      },
      "source": [
        "## Loading of the test and train data\n",
        "df1 = pd.read_csv(\"drugs_train.csv\")\n",
        "df2 = pd.read_csv(\"drugs_test.csv\")"
      ],
      "execution_count": 0,
      "outputs": []
    },
    {
      "cell_type": "code",
      "metadata": {
        "id": "cpDe04o3G7Kj",
        "colab_type": "code",
        "outputId": "3da272e8-8c0a-4424-e33f-ba7700d396a3",
        "colab": {
          "base_uri": "https://localhost:8080/",
          "height": 204
        }
      },
      "source": [
        "df=pd.concat([df1,df2])\n",
        "df.head()"
      ],
      "execution_count": 0,
      "outputs": [
        {
          "output_type": "execute_result",
          "data": {
            "text/html": [
              "<div>\n",
              "<style scoped>\n",
              "    .dataframe tbody tr th:only-of-type {\n",
              "        vertical-align: middle;\n",
              "    }\n",
              "\n",
              "    .dataframe tbody tr th {\n",
              "        vertical-align: top;\n",
              "    }\n",
              "\n",
              "    .dataframe thead th {\n",
              "        text-align: right;\n",
              "    }\n",
              "</style>\n",
              "<table border=\"1\" class=\"dataframe\">\n",
              "  <thead>\n",
              "    <tr style=\"text-align: right;\">\n",
              "      <th></th>\n",
              "      <th>uniqueID</th>\n",
              "      <th>drugName</th>\n",
              "      <th>condition</th>\n",
              "      <th>review</th>\n",
              "      <th>rating</th>\n",
              "      <th>date</th>\n",
              "      <th>usefulCount</th>\n",
              "    </tr>\n",
              "  </thead>\n",
              "  <tbody>\n",
              "    <tr>\n",
              "      <th>0</th>\n",
              "      <td>206461</td>\n",
              "      <td>Valsartan</td>\n",
              "      <td>Left Ventricular Dysfunction</td>\n",
              "      <td>\"It has no side effect, I take it in combinati...</td>\n",
              "      <td>9</td>\n",
              "      <td>20-May-12</td>\n",
              "      <td>27</td>\n",
              "    </tr>\n",
              "    <tr>\n",
              "      <th>1</th>\n",
              "      <td>95260</td>\n",
              "      <td>Guanfacine</td>\n",
              "      <td>ADHD</td>\n",
              "      <td>\"My son is halfway through his fourth week of ...</td>\n",
              "      <td>8</td>\n",
              "      <td>27-Apr-10</td>\n",
              "      <td>192</td>\n",
              "    </tr>\n",
              "    <tr>\n",
              "      <th>2</th>\n",
              "      <td>92703</td>\n",
              "      <td>Lybrel</td>\n",
              "      <td>Birth Control</td>\n",
              "      <td>\"I used to take another oral contraceptive, wh...</td>\n",
              "      <td>5</td>\n",
              "      <td>14-Dec-09</td>\n",
              "      <td>17</td>\n",
              "    </tr>\n",
              "    <tr>\n",
              "      <th>3</th>\n",
              "      <td>138000</td>\n",
              "      <td>Ortho Evra</td>\n",
              "      <td>Birth Control</td>\n",
              "      <td>\"This is my first time using any form of birth...</td>\n",
              "      <td>8</td>\n",
              "      <td>03-Nov-15</td>\n",
              "      <td>10</td>\n",
              "    </tr>\n",
              "    <tr>\n",
              "      <th>4</th>\n",
              "      <td>35696</td>\n",
              "      <td>Buprenorphine / naloxone</td>\n",
              "      <td>Opiate Dependence</td>\n",
              "      <td>\"Suboxone has completely turned my life around...</td>\n",
              "      <td>9</td>\n",
              "      <td>27-Nov-16</td>\n",
              "      <td>37</td>\n",
              "    </tr>\n",
              "  </tbody>\n",
              "</table>\n",
              "</div>"
            ],
            "text/plain": [
              "   uniqueID                  drugName  ...       date usefulCount\n",
              "0    206461                 Valsartan  ...  20-May-12          27\n",
              "1     95260                Guanfacine  ...  27-Apr-10         192\n",
              "2     92703                    Lybrel  ...  14-Dec-09          17\n",
              "3    138000                Ortho Evra  ...  03-Nov-15          10\n",
              "4     35696  Buprenorphine / naloxone  ...  27-Nov-16          37\n",
              "\n",
              "[5 rows x 7 columns]"
            ]
          },
          "metadata": {
            "tags": []
          },
          "execution_count": 8
        }
      ]
    },
    {
      "cell_type": "code",
      "metadata": {
        "id": "_4oLR28rG7Kq",
        "colab_type": "code",
        "outputId": "866bd4d3-3492-44d5-f482-e2f7ba7a8503",
        "colab": {
          "base_uri": "https://localhost:8080/",
          "height": 34
        }
      },
      "source": [
        "df.shape"
      ],
      "execution_count": 0,
      "outputs": [
        {
          "output_type": "execute_result",
          "data": {
            "text/plain": [
              "(215063, 7)"
            ]
          },
          "metadata": {
            "tags": []
          },
          "execution_count": 9
        }
      ]
    },
    {
      "cell_type": "code",
      "metadata": {
        "id": "0H9fKIsFG7Ku",
        "colab_type": "code",
        "outputId": "f0a7e98c-112c-4e81-d3e6-239448bcd4ff",
        "colab": {
          "base_uri": "https://localhost:8080/",
          "height": 68
        }
      },
      "source": [
        "df.columns"
      ],
      "execution_count": 0,
      "outputs": [
        {
          "output_type": "execute_result",
          "data": {
            "text/plain": [
              "Index(['uniqueID', 'drugName', 'condition', 'review', 'rating', 'date',\n",
              "       'usefulCount'],\n",
              "      dtype='object')"
            ]
          },
          "metadata": {
            "tags": []
          },
          "execution_count": 10
        }
      ]
    },
    {
      "cell_type": "code",
      "metadata": {
        "id": "VqPZPYdUG7Ky",
        "colab_type": "code",
        "outputId": "bec681ee-b0dd-4d01-ddc6-34ed63bab418",
        "colab": {
          "base_uri": "https://localhost:8080/",
          "height": 51
        }
      },
      "source": [
        "print(\"unique values count of df : \" ,len(set(df['uniqueID'].values)))\n",
        "print(\"length of df : \" ,df.shape[0])"
      ],
      "execution_count": 0,
      "outputs": [
        {
          "output_type": "stream",
          "text": [
            "unique values count of df :  215063\n",
            "length of df :  215063\n"
          ],
          "name": "stdout"
        }
      ]
    },
    {
      "cell_type": "code",
      "metadata": {
        "id": "dW9dNFxfG7K2",
        "colab_type": "code",
        "outputId": "fb9de0f1-052d-4edd-a695-44b31a8c75c3",
        "colab": {
          "base_uri": "https://localhost:8080/",
          "height": 235
        }
      },
      "source": [
        "df.groupby([\"drugName\"]).count().head()"
      ],
      "execution_count": 0,
      "outputs": [
        {
          "output_type": "execute_result",
          "data": {
            "text/html": [
              "<div>\n",
              "<style scoped>\n",
              "    .dataframe tbody tr th:only-of-type {\n",
              "        vertical-align: middle;\n",
              "    }\n",
              "\n",
              "    .dataframe tbody tr th {\n",
              "        vertical-align: top;\n",
              "    }\n",
              "\n",
              "    .dataframe thead th {\n",
              "        text-align: right;\n",
              "    }\n",
              "</style>\n",
              "<table border=\"1\" class=\"dataframe\">\n",
              "  <thead>\n",
              "    <tr style=\"text-align: right;\">\n",
              "      <th></th>\n",
              "      <th>uniqueID</th>\n",
              "      <th>condition</th>\n",
              "      <th>review</th>\n",
              "      <th>rating</th>\n",
              "      <th>date</th>\n",
              "      <th>usefulCount</th>\n",
              "    </tr>\n",
              "    <tr>\n",
              "      <th>drugName</th>\n",
              "      <th></th>\n",
              "      <th></th>\n",
              "      <th></th>\n",
              "      <th></th>\n",
              "      <th></th>\n",
              "      <th></th>\n",
              "    </tr>\n",
              "  </thead>\n",
              "  <tbody>\n",
              "    <tr>\n",
              "      <th>A + D Cracked Skin Relief</th>\n",
              "      <td>1</td>\n",
              "      <td>1</td>\n",
              "      <td>1</td>\n",
              "      <td>1</td>\n",
              "      <td>1</td>\n",
              "      <td>1</td>\n",
              "    </tr>\n",
              "    <tr>\n",
              "      <th>A / B Otic</th>\n",
              "      <td>2</td>\n",
              "      <td>2</td>\n",
              "      <td>2</td>\n",
              "      <td>2</td>\n",
              "      <td>2</td>\n",
              "      <td>2</td>\n",
              "    </tr>\n",
              "    <tr>\n",
              "      <th>Abacavir / dolutegravir / lamivudine</th>\n",
              "      <td>70</td>\n",
              "      <td>70</td>\n",
              "      <td>70</td>\n",
              "      <td>70</td>\n",
              "      <td>70</td>\n",
              "      <td>70</td>\n",
              "    </tr>\n",
              "    <tr>\n",
              "      <th>Abacavir / lamivudine</th>\n",
              "      <td>3</td>\n",
              "      <td>3</td>\n",
              "      <td>3</td>\n",
              "      <td>3</td>\n",
              "      <td>3</td>\n",
              "      <td>3</td>\n",
              "    </tr>\n",
              "    <tr>\n",
              "      <th>Abacavir / lamivudine / zidovudine</th>\n",
              "      <td>1</td>\n",
              "      <td>1</td>\n",
              "      <td>1</td>\n",
              "      <td>1</td>\n",
              "      <td>1</td>\n",
              "      <td>1</td>\n",
              "    </tr>\n",
              "  </tbody>\n",
              "</table>\n",
              "</div>"
            ],
            "text/plain": [
              "                                      uniqueID  condition  ...  date  usefulCount\n",
              "drugName                                                   ...                   \n",
              "A + D Cracked Skin Relief                    1          1  ...     1            1\n",
              "A / B Otic                                   2          2  ...     2            2\n",
              "Abacavir / dolutegravir / lamivudine        70         70  ...    70           70\n",
              "Abacavir / lamivudine                        3          3  ...     3            3\n",
              "Abacavir / lamivudine / zidovudine           1          1  ...     1            1\n",
              "\n",
              "[5 rows x 6 columns]"
            ]
          },
          "metadata": {
            "tags": []
          },
          "execution_count": 12
        }
      ]
    },
    {
      "cell_type": "code",
      "metadata": {
        "id": "KA_Wuf_9G7K7",
        "colab_type": "code",
        "outputId": "953192f0-c8e8-4761-8129-b3c4c2f1cfa6",
        "colab": {
          "base_uri": "https://localhost:8080/",
          "height": 34
        }
      },
      "source": [
        "##We have a data(Reviews) of 3671 medicines\n",
        "df.groupby([\"drugName\"]).count().shape"
      ],
      "execution_count": 0,
      "outputs": [
        {
          "output_type": "execute_result",
          "data": {
            "text/plain": [
              "(3671, 6)"
            ]
          },
          "metadata": {
            "tags": []
          },
          "execution_count": 13
        }
      ]
    },
    {
      "cell_type": "code",
      "metadata": {
        "id": "SoEPyOJQG7K_",
        "colab_type": "code",
        "outputId": "be4cc0c8-ac28-4985-f380-b98e1ba5a62a",
        "colab": {
          "base_uri": "https://localhost:8080/",
          "height": 34
        }
      },
      "source": [
        "###we have 916 different conditions\n",
        "df.groupby(['condition']).count().shape"
      ],
      "execution_count": 0,
      "outputs": [
        {
          "output_type": "execute_result",
          "data": {
            "text/plain": [
              "(916, 6)"
            ]
          },
          "metadata": {
            "tags": []
          },
          "execution_count": 14
        }
      ]
    },
    {
      "cell_type": "code",
      "metadata": {
        "id": "ECB8GdLXG7LC",
        "colab_type": "code",
        "outputId": "1179ddf8-ba61-47e8-f196-5a3454b1600c",
        "colab": {
          "base_uri": "https://localhost:8080/",
          "height": 7599
        }
      },
      "source": [
        "df[\"condition\"].unique()\n"
      ],
      "execution_count": 0,
      "outputs": [
        {
          "output_type": "execute_result",
          "data": {
            "text/plain": [
              "array(['Left Ventricular Dysfunction', 'ADHD', 'Birth Control',\n",
              "       'Opiate Dependence', 'Benign Prostatic Hyperplasia',\n",
              "       'Emergency Contraception', 'Bipolar Disorde', 'Epilepsy',\n",
              "       'Migraine Prevention', 'Depression', \"Crohn's Disease\", 'Cough',\n",
              "       'Obesity', 'Urinary Tract Infection', 'ibromyalgia',\n",
              "       'Chronic Myelogenous Leukemia', 'HIV Infection', 'Insomnia',\n",
              "       'Rheumatoid Arthritis', 'Vaginal Yeast Infection',\n",
              "       'Chlamydia Infection', 'Hirsutism', 'Panic Disorde', 'Migraine',\n",
              "       nan, 'Pain', 'Irritable Bowel Syndrome', 'Osteoarthritis',\n",
              "       'Constipation', 'Bowel Preparation', 'Psychosis', 'Muscle Spasm',\n",
              "       'Hepatitis C', 'Overactive Bladde', 'Diabetes, Type 2',\n",
              "       'Asthma, Maintenance', 'Non-Small Cell Lung Cance',\n",
              "       'Schizophrenia', 'Dysuria', 'Smoking Cessation', 'Anxiety', 'Acne',\n",
              "       'emale Infertility', 'Constipation, Acute',\n",
              "       'Constipation, Drug Induced', 'Erectile Dysfunction',\n",
              "       'Trigeminal Neuralgia', 'Underactive Thyroid', 'Chronic Pain',\n",
              "       'Atrophic Vaginitis', 'Skin and Structure Infection', 'Tinnitus',\n",
              "       'Major Depressive Disorde', 'Anxiety and Stress', 'Rosacea',\n",
              "       'High Blood Pressure',\n",
              "       '2</span> users found this comment helpful.',\n",
              "       'Restless Legs Syndrome',\n",
              "       'Osteolytic Bone Metastases of Solid Tumors', 'Bronchitis',\n",
              "       'Skin or Soft Tissue Infection', 'Obsessive Compulsive Disorde',\n",
              "       'Endometriosis', 'Keratoconjunctivitis Sicca', 'Breakthrough Pain',\n",
              "       'Seizures', 'Neuropathic Pain', 'Sedation', 'Menstrual Disorders',\n",
              "       'Allergic Rhinitis', 'Anesthesia',\n",
              "       'Undifferentiated Connective Tissue Disease', 'Diabetes, Type 1',\n",
              "       'Abnormal Uterine Bleeding', 'Weight Loss',\n",
              "       'Constipation, Chronic', 'Breast Cancer, Metastatic',\n",
              "       'Period Pain', 'Helicobacter Pylori Infection',\n",
              "       'Atrial Fibrillation', 'Uterine Fibroids',\n",
              "       '4</span> users found this comment helpful.', 'Kidney Infections',\n",
              "       'Generalized Anxiety Disorde', 'Asthma', 'Postmenopausal Symptoms',\n",
              "       'High Cholesterol', 'Hypogonadism, Male', 'Hyperthyroidism',\n",
              "       'Back Pain', 'Anaplastic Oligodendroglioma', \"Sjogren's Syndrome\",\n",
              "       'Asthma, acute', 'Hot Flashes',\n",
              "       '3</span> users found this comment helpful.',\n",
              "       'Herpes Simplex, Suppression', 'Bacterial Infection', 'Bursitis',\n",
              "       'Diaper Rash', 'Systemic Mastocytosis', 'Trichotillomania',\n",
              "       \"Hashimoto's disease\", 'Eczema', 'Dental Abscess', 'Headache',\n",
              "       'Hypersomnia', 'Xerostomia', 'Breast Cance', 'Sore Throat',\n",
              "       \"Barrett's Esophagus\", 'Pain/Feve', 'Diverticulitis', 'Sinusitis',\n",
              "       'Polycystic Ovary Syndrome', 'Influenza',\n",
              "       'Hypothyroidism, After Thyroid Removal', 'Onychomycosis, Toenail',\n",
              "       'Progesterone Insufficiency',\n",
              "       '11</span> users found this comment helpful.', 'GERD',\n",
              "       'Nausea/Vomiting, Postoperative', 'Herpes Simplex',\n",
              "       'Gastroparesis', 'Gout, Acute', 'Motion Sickness',\n",
              "       'Multiple Sclerosis', 'Autism', 'Otitis Media',\n",
              "       'Upper Respiratory Tract Infection', 'Surgical Prophylaxis',\n",
              "       'Psoriatic Arthritis', 'Erosive Esophagitis',\n",
              "       'Premature Ventricular Depolarizations', 'Stomach Ulce',\n",
              "       'Nausea/Vomiting', 'Light Anesthesia',\n",
              "       'Angina Pectoris Prophylaxis',\n",
              "       '0</span> users found this comment helpful.', 'Paranoid Disorde',\n",
              "       'Prostatitis', 'Extrapyramidal Reaction', 'mance Anxiety',\n",
              "       'Night Terrors', 'High Cholesterol, Familial Heterozygous',\n",
              "       'Spondyloarthritis', 'Clostridial Infection', 'Dermatomyositis',\n",
              "       'Bronchiectasis', 'Nasal Congestion', 'Benign Essential Trem',\n",
              "       'Angina', 'moterol / mometasone)', 'Impetig',\n",
              "       'Conjunctivitis, Bacterial', 'Post Traumatic Stress Disorde',\n",
              "       'Alcohol Withdrawal', 'Psoriasis', 'Cold Sores', 'Hyperhidrosis',\n",
              "       '1</span> users found this comment helpful.',\n",
              "       'Ankylosing Spondylitis', 'Hemorrhoids',\n",
              "       '142</span> users found this comment helpful.',\n",
              "       'Schizoaffective Disorde', 'Not Listed / Othe', 'Rhinitis',\n",
              "       'Oral Thrush', 'Hyperlipoproteinemia',\n",
              "       'Neutropenia Associated with Chemotherapy', 'Osteoporosis',\n",
              "       'Reflex Sympathetic Dystrophy Syndrome', 'Urticaria', 'Narcolepsy',\n",
              "       'Systemic Lupus Erythematosus', 'Ulcerative Colitis',\n",
              "       'Adult Human Growth Hormone Deficiency', 'Bacterial Vaginitis',\n",
              "       'COPD, Maintenance', 'Anorexia', 'TSH Suppression',\n",
              "       'Breast Cancer, Adjuvant', 'Glaucoma',\n",
              "       'Cough and Nasal Congestion',\n",
              "       '8</span> users found this comment helpful.',\n",
              "       'Inflammatory Conditions', 'Urinary Incontinence', 'Gout',\n",
              "       'Bladder Infection', 'Human Papillomavirus Prophylaxis',\n",
              "       'Glioblastoma Multiforme', 'Strep Throat',\n",
              "       'Bacterial Skin Infection', 'Hereditary Angioedema',\n",
              "       'Cold Symptoms', 'Labor Pain', 'Dry Skin', 'Diabetes Insipidus',\n",
              "       'Methicillin-Resistant Staphylococcus Aureus Infection',\n",
              "       'Borderline Personality Disorde', 'Amenorrhea', 'Pneumonia',\n",
              "       'Seborrheic Dermatitis', 'Interstitial Cystitis',\n",
              "       'Malaria Prevention', 'Prevention of Dental Caries',\n",
              "       'Herbal Supplementation', 'Plaque Psoriasis', \"Raynaud's Syndrome\",\n",
              "       \"Addison's Disease\", 'Prostate Cance', 'Allergies',\n",
              "       'Opioid-Induced Constipation', 'moterol)',\n",
              "       '13</span> users found this comment helpful.', 'Diarrhea',\n",
              "       'Seasonal Allergic Conjunctivitis', 'Opioid Overdose',\n",
              "       'Spondylolisthesis', 'Shift Work Sleep Disorde',\n",
              "       'Obstructive Sleep Apnea/Hypopnea Syndrome',\n",
              "       'Nausea/Vomiting of Pregnancy', 'Mucositis',\n",
              "       'Ulcerative Colitis, Active', 'Head Lice',\n",
              "       'Tonsillitis/Pharyngitis', 'Pseudotumor Cerebri',\n",
              "       \"Parkinson's Disease\", 'Sciatica', 'Cance',\n",
              "       'Bacterial Endocarditis Prevention', 'Diarrhea, Chronic',\n",
              "       'Hypertensive Emergency', 'Keratosis', 'Ovarian Cysts',\n",
              "       \"Behcet's Disease\", 'Chronic Idiopathic Constipation',\n",
              "       'lic Acid Deficiency', 'Chronic Fatigue Syndrome',\n",
              "       'Basal Cell Carcinoma', 'Cataplexy',\n",
              "       \"Crohn's Disease, Maintenance\", 'Diabetic Peripheral Neuropathy',\n",
              "       'Arrhythmia', 'Primary Ovarian Failure', 'Influenza Prophylaxis',\n",
              "       'Agitated State', 'Heart Failure', 'atigue', 'Opiate Withdrawal',\n",
              "       'Endometrial Hyperplasia, Prophylaxis', 'Immunosuppression',\n",
              "       'Dystonia', 'Alopecia', 'Vulvodynia',\n",
              "       'Premenstrual Dysphoric Disorde', 'Alcohol Dependence',\n",
              "       'Myasthenia Gravis', 'Social Anxiety Disorde', 'Atopic Dermatitis',\n",
              "       'Schistosoma japonicum', 'Sinus Symptoms', 'min / sitagliptin)',\n",
              "       'Dermatitis', 'Eye Redness', 'Warts', 'Menorrhagia',\n",
              "       'Seizure Prevention', 'Ophthalmic Surgery', 'Skin Rash',\n",
              "       'Condylomata Acuminata', 'NSAID-Induced Ulcer Prophylaxis',\n",
              "       'Tinea Versicol', 'Peripheral Neuropathy', 'Deep Vein Thrombosis',\n",
              "       '6</span> users found this comment helpful.', 'Heart Attack',\n",
              "       'Pulmonary Embolism, Recurrent Event', 'Light Sedation',\n",
              "       'Acute Lymphoblastic Leukemia', 'Hyperprolactinemia',\n",
              "       'Indigestion', 'Hepatitis B', 'Dysautonomia', 'Status Epilepticus',\n",
              "       'Postpartum Depression', 'Multiple Myeloma',\n",
              "       'Prevention of Hypokalemia', 'Edema', 'Urinary Retention',\n",
              "       'Prevention of Thromboembolism in Atrial Fibrillation',\n",
              "       'Cluster Headaches', 'Sexual Dysfunction, SSRI Induced',\n",
              "       'Dermatitis Herpetiformis', 'Temporomandibular Joint Disorde',\n",
              "       'Burns, External', 'Actinic Keratosis', 'Pharyngitis',\n",
              "       'Melanoma, Metastatic', 'Atrial Flutte', 'Lyme Disease',\n",
              "       'Dry Eye Disease', 'Allergic Reactions', 'Hypertriglyceridemia',\n",
              "       'Pruritus', 'Carcinoid Tum', 'Muscle Pain', 'Colorectal Cance',\n",
              "       'Vitamin/Mineral Supplementation during Pregnancy/Lactation',\n",
              "       'Nausea/Vomiting, Chemotherapy Induced', 'Women (oxybutynin)',\n",
              "       'Primary Immunodeficiency Syndrome',\n",
              "       'New Daily Persistent Headache',\n",
              "       'Pneumococcal Disease Prophylaxis', 'Burning Mouth Syndrome',\n",
              "       'Urinary Tract Stones', 'Pseudobulbar Affect',\n",
              "       '94</span> users found this comment helpful.',\n",
              "       'Eye Redness/Itching', 'Deep Vein Thrombosis, First Event',\n",
              "       'Pulmonary Hypertension', 'Malaria', 'Sarcoidosis',\n",
              "       'Dietary Supplementation', 'Bulimia', 'Tendonitis', 'Nasal Polyps',\n",
              "       'Hypokalemia', 'Anemia, Sickle Cell', 'Uveitis',\n",
              "       'Streptococcal Infection', 'Perimenopausal Symptoms',\n",
              "       'Asperger Syndrome', 'Tinea Corporis', 'Mania',\n",
              "       'Renal Cell Carcinoma', 'COPD', 'Biliary Cirrhosis', 'Vertig',\n",
              "       'Reversal of Opioid Sedation', \"Non-Hodgkin's Lymphoma\",\n",
              "       'High Cholesterol, Familial Homozygous',\n",
              "       'Periodic Limb Movement Disorde', 'Supraventricular Tachycardia',\n",
              "       'Hypoestrogenism', 'Juvenile Idiopathic Arthritis', 'Swine Flu',\n",
              "       'Giardiasis', 'Binge Eating Disorde', \"Tourette's Syndrome\",\n",
              "       'Trichomoniasis', 'acial Wrinkles',\n",
              "       '28</span> users found this comment helpful.',\n",
              "       'Pulmonary Embolism', 'Conjunctivitis, Allergic',\n",
              "       'Avian Influenza', '16</span> users found this comment helpful.',\n",
              "       'Hemangioma', 'Nocturnal Leg Cramps', 'Thyroid Suppression Test',\n",
              "       'Muscle Twitching', 'Pupillary Dilation',\n",
              "       'Lennox-Gastaut Syndrome', 'Opiate Adjunct', 'Postoperative Pain',\n",
              "       'Candida Urinary Tract Infection', 'Cerebral Spasticity',\n",
              "       'Lipodystrophy', 'Androgenetic Alopecia', 'Computed Tomography',\n",
              "       'Mitral Valve Prolapse', 'Vitamin D Deficiency',\n",
              "       'Glaucoma, Open Angle', 'Endoscopy or Radiology Premedication',\n",
              "       \"Alzheimer's Disease\", 'Gouty Arthritis',\n",
              "       'Paroxysmal Supraventricular Tachycardia',\n",
              "       'Deep Vein Thrombosis, Prophylaxis', 'Gaucher Disease',\n",
              "       'Lymphocytic Colitis', 'Pancreatic Cance', 'Cystic Fibrosis',\n",
              "       'Noninfectious Colitis',\n",
              "       '27</span> users found this comment helpful.', 'Nephrocalcinosis',\n",
              "       'Iron Deficiency Anemia', 'mulation) (phenylephrine)', 'Hiccups',\n",
              "       '75</span> users found this comment helpful.',\n",
              "       'Bronchospasm Prophylaxis', 'Chronic Spasticity',\n",
              "       'min / saxagliptin)', 'Post-Cholecystectomy Diarrhea',\n",
              "       'Postherpetic Neuralgia', 'Insomnia, Stimulant-Associated',\n",
              "       'COPD, Acute', 'Herpes Simplex Dendritic Keratitis',\n",
              "       'Oophorectomy', 'Cyclic Vomiting Syndrome',\n",
              "       'Chronic Lymphocytic Leukemia', 'Lyme Disease, Arthritis',\n",
              "       'Pseudomembranous Colitis', 'Conjunctivitis',\n",
              "       '15</span> users found this comment helpful.', 'min)',\n",
              "       'Intraocular Hypertension', 'Aphthous Ulce',\n",
              "       'Ulcerative Colitis, Maintenance', 'Melasma',\n",
              "       'Lyme Disease, Neurologic', 'ge (amlodipine / valsartan)',\n",
              "       'Herpes Zoste', '12</span> users found this comment helpful.',\n",
              "       'Cervical Dystonia', 'Labor Induction', 'Human Papilloma Virus',\n",
              "       'Chronic Pancreatitis', 'Polycythemia Vera',\n",
              "       '9</span> users found this comment helpful.',\n",
              "       'Dermatological Disorders', 'Lewy Body Dementia',\n",
              "       'amilial Mediterranean Feve', 'Neurosurgery', 'Gastroenteritis',\n",
              "       'Macular Edema', 'Tinea Pedis',\n",
              "       '7</span> users found this comment helpful.',\n",
              "       'Diagnosis and Investigation',\n",
              "       '35</span> users found this comment helpful.', 'Gas', 'Neuralgia',\n",
              "       'Local Anesthesia', '54</span> users found this comment helpful.',\n",
              "       'Acute Coronary Syndrome', 'Aspiration Pneumonia',\n",
              "       'Idiopathic Thrombocytopenic Purpura', 'Onychomycosis, Fingernail',\n",
              "       'Photoaging of the Skin', 'Premature Lab', 'Precocious Puberty',\n",
              "       'Prevention of Bladder infection', 'Seasonal Affective Disorde',\n",
              "       'Diabetic Kidney Disease', \"Crohn's Disease, Acute\",\n",
              "       'Insulin Resistance Syndrome', 'Pudendal Neuralgia',\n",
              "       \"Reiter's Syndrome\", '17</span> users found this comment helpful.',\n",
              "       'Amyotrophic Lateral Sclerosis', 'Body Dysmorphic Disorde',\n",
              "       'Prosthetic Heart Valves, Mechanical Valves - Thrombosis Prophylaxis',\n",
              "       'Dandruff', 'Vitamin B12 Deficiency', 'Bone infection',\n",
              "       'Prosthetic Heart Valves, Tissue Valves - Thrombosis Prophylaxis',\n",
              "       'Iritis', 'Allergic Urticaria', 'Cardiovascular Risk Reduction',\n",
              "       'Giant Cell Tumor of Bone', 'Babesiosis',\n",
              "       'Secondary Hyperparathyroidism', 'Hypoparathyroidism',\n",
              "       'Performance Anxiety', 'Abortion', 'Skin Cance',\n",
              "       'Ovulation Induction', 'Liver Magnetic Resonance Imaging',\n",
              "       'Vitamin/Mineral Supplementation and Deficiency',\n",
              "       '79</span> users found this comment helpful.',\n",
              "       'Herpes Simplex, Mucocutaneous/Immunocompetent Host',\n",
              "       '10</span> users found this comment helpful.',\n",
              "       'Anemia Associated with Chronic Renal Failure',\n",
              "       'Hyperphosphatemia of Renal Failure',\n",
              "       'Dissociative Identity Disorde', 'Anal Fissure and Fistula',\n",
              "       '14</span> users found this comment helpful.',\n",
              "       'Herpes Simplex, Mucocutaneous/Immunocompromised Host', 'Scabies',\n",
              "       '5</span> users found this comment helpful.', 'Endometrial Cance',\n",
              "       'Transient Ischemic Attack', 'Granuloma Annulare',\n",
              "       \"Traveler's Diarrhea\", 'Candidemia',\n",
              "       't Pac with Cyclobenzaprine (cyclobenzaprine)',\n",
              "       'Hypoactive Sexual Desire Disorde', 'Epicondylitis, Tennis Elbow',\n",
              "       'Nightmares', 'Dientamoeba fragilis', 'Ventricular Tachycardia',\n",
              "       'Dumping Syndrome', 'Myelodysplastic Syndrome', 'Hypodermoclysis',\n",
              "       'zen Shoulde', 'Topical Disinfection', 'Perioral Dermatitis',\n",
              "       'Agitation', 'Intermittent Claudication',\n",
              "       'Prevention of Osteoporosis', 'Leukemia', 'Dermatitis Herpeti',\n",
              "       'mis', 'Eosinophilic Esophagitis',\n",
              "       'Hyperlipoproteinemia Type IIa, Elevated LDL',\n",
              "       'Endometrial Hyperplasia',\n",
              "       '19</span> users found this comment helpful.', 'Peptic Ulce',\n",
              "       'Chronic Myofascial Pain', 'Enterocolitis',\n",
              "       'Secondary Cutaneous Bacterial Infections', 'Syringomyelia',\n",
              "       'Postoperative Ocular Inflammation',\n",
              "       'Persistent Depressive Disorde', 'Otitis Externa',\n",
              "       'Organ Transplant, Rejection Prophylaxis',\n",
              "       'Intermittent Explosive Disorde', 'Dermatophytosis',\n",
              "       'Inflammatory Bowel Disease', 'Porphyria', 'Anemia',\n",
              "       'Hyperuricemia Secondary to Chemotherapy',\n",
              "       'Wolff-Parkinson-White Syndrome', 'eve', 'Ectopic Pregnancy',\n",
              "       'Thyroid Cance', 'Tuberculosis, Latent',\n",
              "       'Nasal Carriage of Staphylococcus aureus', 'Systemic Candidiasis',\n",
              "       'Ear Wax Impaction', 'Hepatocellular Carcinoma', 'Dyspareunia',\n",
              "       '41</span> users found this comment helpful.', 'Tic Disorde',\n",
              "       'Head and Neck Cance', 'Klinefelter Syndrome', 'Rhinorrhea',\n",
              "       'Soft Tissue Sarcoma', 'Diabetic Macular Edema',\n",
              "       'Menopausal Disorders', 'Anesthetic Adjunct', 'Tinea Cruris',\n",
              "       'tic (mycophenolic acid)', 'Ischemic Stroke', 'Malignant Glioma',\n",
              "       'Thrombocythemia', 'Atrophic Urethritis', 'Systemic Sclerosis',\n",
              "       'Macular Degeneration', 'AIDS Related Wasting', 'Hemophilia A',\n",
              "       'Osteolytic Bone Lesions of Multiple Myeloma',\n",
              "       'Autoimmune Hemolytic Anemia', 'ailure to Thrive',\n",
              "       'Strongyloidiasis', 'Vitamin K Deficiency', 'Ulcerative Proctitis',\n",
              "       'Premenstrual Syndrome',\n",
              "       '23</span> users found this comment helpful.',\n",
              "       'Primary Hyperaldosteronism', 'Lactose Intolerance',\n",
              "       'Anal Itching', 'amilial Cold Autoinflammatory Syndrome',\n",
              "       'Duodenal Ulce', 'Tuberculosis, Prophylaxis', 'Neurosis',\n",
              "       \"Turner's Syndrome\", 'NSAID-Induced Gastric Ulce',\n",
              "       'CNS Magnetic Resonance Imaging', 'Atherosclerosis',\n",
              "       'Deep Vein Thrombosis Prophylaxis after Hip Replacement Surgery',\n",
              "       'Gastritis/Duodenitis', 'Diarrhea, Acute', 'Costochondritis',\n",
              "       'Portal Hypertension', 'Glaucoma/Intraocular Hypertension',\n",
              "       'Toothache', 'Benzodiazepine Withdrawal', 'm Pain Disorde',\n",
              "       'Esophageal Candidiasis',\n",
              "       'Deep Vein Thrombosis Prophylaxis after Knee Replacement Surgery',\n",
              "       'Peripheral Arterial Disease',\n",
              "       'Deep Vein Thrombosis, Recurrent Event', 'Pseudogout, Prophylaxis',\n",
              "       'Lichen Planus', 'CMV Prophylaxis',\n",
              "       '64</span> users found this comment helpful.', 'Neuritis',\n",
              "       'Typhoid Feve', 'Tardive Dyskinesia', 'Ichthyosis',\n",
              "       'Juvenile Rheumatoid Arthritis', 'B12 Nutritional Deficiency',\n",
              "       '18</span> users found this comment helpful.',\n",
              "       'Primary Nocturnal Enuresis',\n",
              "       '146</span> users found this comment helpful.', \"Dercum's Disease\",\n",
              "       'Cutaneous Candidiasis', 'Gingivitis', 'Q Feve', 'Hyperekplexia',\n",
              "       '44</span> users found this comment helpful.', 'Niacin Deficiency',\n",
              "       'Dietary Fiber Supplementation', 'Nephrotic Syndrome',\n",
              "       'Pinworm Infection (Enterobius vermicularis)',\n",
              "       'Pancreatic Exocrine Dysfunction',\n",
              "       'Nausea/Vomiting, Radiation Induced', 'Schilling Test',\n",
              "       'Mild Cognitive Impairment', 'Ischemic Stroke, Prophylaxis',\n",
              "       '20</span> users found this comment helpful.',\n",
              "       'Gonococcal Infection, Uncomplicated', 'Ovarian Cance',\n",
              "       'Eyelash Hypotrichosis', \"Meniere's Disease\", 'Tinea Capitis',\n",
              "       '21</span> users found this comment helpful.', 'Lichen Sclerosus',\n",
              "       'min / pioglitazone)', 'Renal Transplant', 'Gout, Prophylaxis',\n",
              "       \"von Willebrand's Disease\",\n",
              "       'Prevention of Atherothrombotic Events', 'Small Fiber Neuropathy',\n",
              "       '110</span> users found this comment helpful.',\n",
              "       'min / rosiglitazone)', \"Peyronie's Disease\",\n",
              "       'Autoimmune Hepatitis', 'llicular Lymphoma',\n",
              "       'Auditory Processing Disorde', 'Herpes Zoster, Prophylaxis',\n",
              "       'Submental Fullness', 'Lactation Augmentation',\n",
              "       'Radionuclide Myocardial Perfusion Study',\n",
              "       'Prevention of Cardiovascular Disease', 'Varicella-Zoste',\n",
              "       'Pelvic Inflammatory Disease', 'Intraabdominal Infection', 'Croup',\n",
              "       '85</span> users found this comment helpful.',\n",
              "       'Dermatologic Lesion',\n",
              "       'Hyperlipoproteinemia Type IV, Elevated VLDL', 'Expectoration',\n",
              "       'Primary Hyperaldosteronism Diagnosis', 'Abdominal Distension',\n",
              "       'Salivary Gland Cance', 'Pulmonary Embolism, First Event',\n",
              "       'Postpartum Breast Pain',\n",
              "       'Postural Orthostatic Tachycardia Syndrome',\n",
              "       '46</span> users found this comment helpful.',\n",
              "       'Pediatric Growth Hormone Deficiency', 'Hypomagnesemia',\n",
              "       'ge HCT (amlodipine / hydrochlorothiazide / valsartan)',\n",
              "       'Hairy Cell Leukemia', 'Histoplasmosis', 'Hypoglycemia',\n",
              "       '31</span> users found this comment helpful.', 'Brain Tum',\n",
              "       'Gastrointestinal Stromal Tum', 'Tetanus',\n",
              "       'Breast Cancer, Prevention', 'ICU Agitation', 'Women (minoxidil)',\n",
              "       'Peripheral T-cell Lymphoma',\n",
              "       'Chronic Inflammatory Demyelinating Polyradiculoneuropathy',\n",
              "       'Pathological Hypersecretory Conditions',\n",
              "       'Oral and Dental Conditions', 'Antiphospholipid Syndrome',\n",
              "       'Ventricular Arrhythmia', 'Asystole', \"Wegener's Granulomatosis\",\n",
              "       'Thromboembolic Stroke Prophylaxis',\n",
              "       'Platelet Aggregation Inhibition', 'Sleep Paralysis',\n",
              "       'Rejection Prophylaxis', 'Delayed Puberty, Male', 'Ascariasis',\n",
              "       '25</span> users found this comment helpful.',\n",
              "       'Acute Promyelocytic Leukemia',\n",
              "       '32</span> users found this comment helpful.', 'Bartonellosis',\n",
              "       'Cyclothymic Disorde', 'Hypokalemic Periodic Paralysis',\n",
              "       'Varicose Veins', 'Mononucleosis', 'Cachexia', 'Hyperkalemia',\n",
              "       \"Still's Disease\", '48</span> users found this comment helpful.',\n",
              "       'Dementia', 'Ocular Rosacea', 'Hidradenitis Suppurativa', 'SIADH',\n",
              "       'Bullous Pemphigoid', 'Angioedema',\n",
              "       'Mountain Sickness / Altitude Sickness',\n",
              "       'Severe Mood Dysregulation', 'Cutaneous T-cell Lymphoma',\n",
              "       'Adrenocortical Insufficiency', 'Myxedema Coma',\n",
              "       'Small Bowel Bacterial Overgrowth', 'Sunburn',\n",
              "       '33</span> users found this comment helpful.',\n",
              "       'Transverse Myelitis', 'Squamous Cell Carcinoma', 'Parkinsonism',\n",
              "       '22</span> users found this comment helpful.', 'Thyrotoxicosis',\n",
              "       '29</span> users found this comment helpful.',\n",
              "       '30</span> users found this comment helpful.',\n",
              "       'Epididymitis, Sexually Transmitted', 'Neck Pain',\n",
              "       'Bleeding Disorde', '63</span> users found this comment helpful.',\n",
              "       'actor IX Deficiency', 'Melanoma', 'Thrombocytopenia',\n",
              "       'Esophageal Variceal Hemorrhage Prophylaxis', 'Glioblastoma Multi',\n",
              "       'Cholera', 'Anorexia/Feeding Problems',\n",
              "       '45</span> users found this comment helpful.', 'Peritonitis',\n",
              "       'AV Heart Block', 'Pe', \"Wilson's Disease\",\n",
              "       'Nonalcoholic Fatty Liver Disease',\n",
              "       '34</span> users found this comment helpful.', 'Sepsis', 'Anthrax',\n",
              "       'Body Imaging', 'Aggressive Behavi', 'Hepatic Tum', 'Ehrlichiosis',\n",
              "       'Hypopituitarism', 'Gender Dysphoria', 'Infectious Diarrhea',\n",
              "       'Ventricular Fibrillation', 'Anaphylaxis', 'Pemphigus',\n",
              "       'Multiple Endocrine Adenomas', 'Pre-Exposure Prophylaxis',\n",
              "       'Postoperative Increased Intraocular Pressure',\n",
              "       'Pruritus of Partial Biliary Obstruction', 'Pertussis',\n",
              "       'Periodontitis', 'Lymphoma', 'Hypercalcemia of Malignancy',\n",
              "       'Pityriasis rubra pilaris', 'Amebiasis', 't Care',\n",
              "       'Hepatic Encephalopathy',\n",
              "       '55</span> users found this comment helpful.',\n",
              "       'Deep Neck Infection', 'Meningitis, Meningococcal',\n",
              "       'Parkinsonian Trem', 'Rabies Prophylaxis',\n",
              "       '39</span> users found this comment helpful.', 'Hypotension',\n",
              "       'Myelofibrosis', '98</span> users found this comment helpful.',\n",
              "       'cal Segmental Glomerulosclerosis',\n",
              "       'Gastric Ulcer Maintenance Treatment', \"Paget's Disease\",\n",
              "       'Infection Prophylaxis', 'Gastrointestinal Decontamination',\n",
              "       'Mixed Connective Tissue Disease',\n",
              "       '24</span> users found this comment helpful.',\n",
              "       'Somatoform Pain Disorde', 'Esophageal Spasm',\n",
              "       'Campylobacter Gastroenteritis', 'Hyperphosphatemia',\n",
              "       'Oligospermia', 'Wound Cleansing', 'Euvolemic Hyponatremia',\n",
              "       'Gallbladder Disease',\n",
              "       '84</span> users found this comment helpful.',\n",
              "       'Mycobacterium avium-intracellulare, Treatment',\n",
              "       'Oppositional Defiant Disorde', 'Legionella Pneumonia',\n",
              "       'Breast Cancer, Palliative', 'Hydrocephalus',\n",
              "       'Hyperlipoproteinemia Type III, Elevated beta-VLDL   IDL',\n",
              "       '36</span> users found this comment helpful.',\n",
              "       'Anaplastic Astrocytoma', \"Dupuytren's contracture\",\n",
              "       '40</span> users found this comment helpful.', 'Mumps Prophylaxis',\n",
              "       'Skin Disinfection, Preoperative', 'Hyperbilirubinemia',\n",
              "       'Meningitis', 'Corneal Ulce', 'acial Lipoatrophy',\n",
              "       '43</span> users found this comment helpful.',\n",
              "       'Percutaneous Coronary Intervention', 'Hepatitis B Prevention',\n",
              "       'Tuberculosis, Active', 'Cerebrovascular Insufficiency',\n",
              "       'Head Injury', 'Anti NMDA Receptor Encephalitis',\n",
              "       'Nonoccupational Exposure',\n",
              "       '72</span> users found this comment helpful.',\n",
              "       'Gonadotropin Inhibition', 'unctional Gastric Disorde',\n",
              "       'Chronic Eosinophilic Leukemia', 'Acetaminophen Overdose',\n",
              "       'Duodenal Ulcer Prophylaxis', 'Paragonimus westermani, Lung Fluke',\n",
              "       'Alpha-1 Proteinase Inhibitor Deficiency', \"Cogan's Syndrome\",\n",
              "       'Uterine Bleeding', 'Stomach Cance', 'Sporotrichosis',\n",
              "       'Cluster-Tic Syndrome', 'Gestational Diabetes',\n",
              "       'Stress Ulcer Prophylaxis',\n",
              "       'Reversal of Nondepolarizing Muscle Relaxants', 'Solid Tumors',\n",
              "       'mist (', 'Schnitzler Syndrome', 'Hypocalcemia',\n",
              "       '26</span> users found this comment helpful.',\n",
              "       'Meningococcal Meningitis Prophylaxis', 'Nocardiosis',\n",
              "       'Hemophilia B', '42</span> users found this comment helpful.',\n",
              "       'Microscopic polyangiitis', 'Gonococcal Infection, Disseminated',\n",
              "       'Neurotic Depression', 'Keratitis',\n",
              "       '99</span> users found this comment helpful.',\n",
              "       \"Hodgkin's Lymphoma\", 'me', 'STD Prophylaxis',\n",
              "       '123</span> users found this comment helpful.',\n",
              "       'Small Bowel or Pancreatic Fistula',\n",
              "       'Prevention of Perinatal Group B Streptococcal Disease',\n",
              "       '74</span> users found this comment helpful.', 'Cerebral Edema',\n",
              "       'Testicular Cance', 'Short Stature for Age',\n",
              "       '47</span> users found this comment helpful.',\n",
              "       'Aspergillosis, Aspergilloma', 'Pemphigoid',\n",
              "       'Hyperparathyroidism Secondary to Renal Impairment',\n",
              "       '76</span> users found this comment helpful.',\n",
              "       'Ramsay Hunt Syndrome', 'Cutaneous Larva Migrans',\n",
              "       'Occipital Neuralgia', 'Blepharitis', 'Patent Ductus Arteriosus',\n",
              "       'Joint Infection', '77</span> users found this comment helpful.',\n",
              "       'Manscaping Pain', 'Strabismus',\n",
              "       'Organ Transplant, Rejection Reversal',\n",
              "       'Leukocytoclastic Vasculitis', 'Coronary Artery Disease',\n",
              "       'Gastric Cance', 'ibrocystic Breast Disease',\n",
              "       '121</span> users found this comment helpful.',\n",
              "       'ungal Infection Prophylaxis', 'Short Stature', 'Hypercalcemia',\n",
              "       'Coccidioidomycosis', 'Cyclitis', 'Anemia, Chemotherapy Induced',\n",
              "       'Upper Limb Spasticity',\n",
              "       '95</span> users found this comment helpful.',\n",
              "       '61</span> users found this comment helpful.',\n",
              "       'Diagnostic Bronchograms', 'Neoplastic Diseases',\n",
              "       '51</span> users found this comment helpful.',\n",
              "       'Mycoplasma Pneumonia', 'Linear IgA Disease',\n",
              "       'Subarachnoid Hemorrhage', 'Myeloproliferative Disorders',\n",
              "       'ungal Pneumonia', '145</span> users found this comment helpful.',\n",
              "       'Scleroderma', 'Zollinger-Ellison Syndrome', 'Tinea Barbae',\n",
              "       'Acute Nonlymphocytic Leukemia',\n",
              "       '62</span> users found this comment helpful.',\n",
              "       '92</span> users found this comment helpful.', 'Neutropenia',\n",
              "       'Rat-bite Feve', 'Uveitis, Posteri', 'Premature Ejaculation',\n",
              "       'Polymyositis/Dermatomyositis', 'Corneal Refractive Surgery',\n",
              "       'Gastrointestinal Hemorrhage', 'Bacteremia', 'Jet Lag',\n",
              "       'llicle Stimulation', 'Myotonia Congenita', 'Aplastic Anemia',\n",
              "       'Hemorrhoids (pramoxine / zinc oxide)',\n",
              "       'Salmonella Gastroenteritis', 'Somat',\n",
              "       '37</span> users found this comment helpful.',\n",
              "       'Nausea (phosphorated carbohydrate solution)',\n",
              "       'Occupational Exposure',\n",
              "       '83</span> users found this comment helpful.',\n",
              "       'Tympanostomy Tube Placement Surgery', 'Pulmonary Edema',\n",
              "       'Mantle Cell Lymphoma',\n",
              "       '70</span> users found this comment helpful.',\n",
              "       'Lyme Disease, Erythema Chronicum Migrans',\n",
              "       '100</span> users found this comment helpful.',\n",
              "       'Renal Tubular Acidosis', 'Yellow Fever Prophylaxis',\n",
              "       'Acute Otitis Externa',\n",
              "       'Steroid Responsive Inflammatory Conditions',\n",
              "       '135</span> users found this comment helpful.',\n",
              "       '38</span> users found this comment helpful.',\n",
              "       'Pertussis Prophylaxis',\n",
              "       '105</span> users found this comment helpful.'], dtype=object)"
            ]
          },
          "metadata": {
            "tags": []
          },
          "execution_count": 15
        }
      ]
    },
    {
      "cell_type": "code",
      "metadata": {
        "id": "6fHvqDJxG7LH",
        "colab_type": "code",
        "colab": {}
      },
      "source": [
        "### Data Preprocessing\n",
        "### There are some conditions data is missing or incorrect data is filled lets delete those rows\n",
        "for i in df[\"condition\"].unique():\n",
        "    if type(i)==str:\n",
        "        if i[0]==\"0\" or i[0]==\"1\" or i[0]==\"2\" or i[0]=='3' or i[0]==\"4\" or i[0]==\"5\" or i[0]==\"6\" or i[0]==\"7\" or i[0]==\"8\" or i[0]==\"9\":\n",
        "            df = df[(df.condition != i) ]"
      ],
      "execution_count": 0,
      "outputs": []
    },
    {
      "cell_type": "code",
      "metadata": {
        "id": "msWkkT0aG7LK",
        "colab_type": "code",
        "outputId": "1158618b-d28b-443d-ecc7-fb3329a0b4b4",
        "colab": {
          "base_uri": "https://localhost:8080/",
          "height": 34
        }
      },
      "source": [
        "df.shape"
      ],
      "execution_count": 0,
      "outputs": [
        {
          "output_type": "execute_result",
          "data": {
            "text/plain": [
              "(213892, 7)"
            ]
          },
          "metadata": {
            "tags": []
          },
          "execution_count": 17
        }
      ]
    },
    {
      "cell_type": "code",
      "metadata": {
        "id": "E3HxRddYG7LO",
        "colab_type": "code",
        "outputId": "bbea7385-81ad-4d9e-d94d-cd91fc228339",
        "colab": {
          "base_uri": "https://localhost:8080/",
          "height": 153
        }
      },
      "source": [
        "### to check null values  in each column\n",
        "df.isnull().sum()"
      ],
      "execution_count": 0,
      "outputs": [
        {
          "output_type": "execute_result",
          "data": {
            "text/plain": [
              "uniqueID          0\n",
              "drugName          0\n",
              "condition      1194\n",
              "review            0\n",
              "rating            0\n",
              "date              0\n",
              "usefulCount       0\n",
              "dtype: int64"
            ]
          },
          "metadata": {
            "tags": []
          },
          "execution_count": 18
        }
      ]
    },
    {
      "cell_type": "code",
      "metadata": {
        "id": "yxv9NM3VG7LT",
        "colab_type": "code",
        "colab": {}
      },
      "source": [
        "df=df.dropna()"
      ],
      "execution_count": 0,
      "outputs": []
    },
    {
      "cell_type": "code",
      "metadata": {
        "id": "ersqz9AUG7LX",
        "colab_type": "code",
        "outputId": "61528f11-e60b-41c9-b30b-da3c04e44e52",
        "colab": {
          "base_uri": "https://localhost:8080/",
          "height": 537
        }
      },
      "source": [
        "### total no. of drugs per condition(Top 20)\n",
        "condition_drugs = df.groupby(['condition'])['drugName'].nunique().sort_values(ascending=False)\n",
        "condition_drugs[0:20].plot(kind=\"bar\", figsize = (14,6), fontsize = 10,color=\"green\")\n",
        "plt.xlabel(\"\", fontsize = 20)\n",
        "plt.ylabel(\"\", fontsize = 20)\n",
        "plt.title(\"Top20 : The number of drugs per condition.\", fontsize = 20)"
      ],
      "execution_count": 0,
      "outputs": [
        {
          "output_type": "execute_result",
          "data": {
            "text/plain": [
              "Text(0.5, 1.0, 'Top20 : The number of drugs per condition.')"
            ]
          },
          "metadata": {
            "tags": []
          },
          "execution_count": 20
        },
        {
          "output_type": "display_data",
          "data": {
            "image/png": "[encoded data removed]",
            "text/plain": [
              "<Figure size 1008x432 with 1 Axes>"
            ]
          },
          "metadata": {
            "tags": []
          }
        }
      ]
    },
    {
      "cell_type": "code",
      "metadata": {
        "id": "K51rz8q1G7Lb",
        "colab_type": "code",
        "outputId": "f5e54c36-3282-46ee-e049-6d285a317676",
        "colab": {
          "base_uri": "https://localhost:8080/",
          "height": 204
        }
      },
      "source": [
        "#count of conditions with respect to drug\n",
        "df_condition=df.groupby(['condition'])['drugName'].nunique().sort_values(ascending=False)\n",
        "df_condition=pd.DataFrame(df_condition).reset_index()\n",
        "df_condition.head()"
      ],
      "execution_count": 0,
      "outputs": [
        {
          "output_type": "execute_result",
          "data": {
            "text/html": [
              "<div>\n",
              "<style scoped>\n",
              "    .dataframe tbody tr th:only-of-type {\n",
              "        vertical-align: middle;\n",
              "    }\n",
              "\n",
              "    .dataframe tbody tr th {\n",
              "        vertical-align: top;\n",
              "    }\n",
              "\n",
              "    .dataframe thead th {\n",
              "        text-align: right;\n",
              "    }\n",
              "</style>\n",
              "<table border=\"1\" class=\"dataframe\">\n",
              "  <thead>\n",
              "    <tr style=\"text-align: right;\">\n",
              "      <th></th>\n",
              "      <th>condition</th>\n",
              "      <th>drugName</th>\n",
              "    </tr>\n",
              "  </thead>\n",
              "  <tbody>\n",
              "    <tr>\n",
              "      <th>0</th>\n",
              "      <td>Not Listed / Othe</td>\n",
              "      <td>253</td>\n",
              "    </tr>\n",
              "    <tr>\n",
              "      <th>1</th>\n",
              "      <td>Pain</td>\n",
              "      <td>219</td>\n",
              "    </tr>\n",
              "    <tr>\n",
              "      <th>2</th>\n",
              "      <td>Birth Control</td>\n",
              "      <td>181</td>\n",
              "    </tr>\n",
              "    <tr>\n",
              "      <th>3</th>\n",
              "      <td>High Blood Pressure</td>\n",
              "      <td>146</td>\n",
              "    </tr>\n",
              "    <tr>\n",
              "      <th>4</th>\n",
              "      <td>Acne</td>\n",
              "      <td>127</td>\n",
              "    </tr>\n",
              "  </tbody>\n",
              "</table>\n",
              "</div>"
            ],
            "text/plain": [
              "             condition  drugName\n",
              "0    Not Listed / Othe       253\n",
              "1                 Pain       219\n",
              "2        Birth Control       181\n",
              "3  High Blood Pressure       146\n",
              "4                 Acne       127"
            ]
          },
          "metadata": {
            "tags": []
          },
          "execution_count": 21
        }
      ]
    },
    {
      "cell_type": "code",
      "metadata": {
        "scrolled": true,
        "id": "r4UEfJnkG7Lf",
        "colab_type": "code",
        "outputId": "7038f749-fe24-4448-c41d-c8d6cf8f3d6d",
        "colab": {
          "base_uri": "https://localhost:8080/",
          "height": 632
        }
      },
      "source": [
        "##The following are the bottom 20 conditions of 'drugs per condition'.\n",
        "###As we can see, the number is all 1. Considering the recommendation system, it is not\n",
        "###feasible to recommend with that when there is only one product. Therefore, we will analyze only the conditions \n",
        "###that have at least 2 drugs per condition.\n",
        "\n",
        "condition_drugs = df.groupby(['condition'])['drugName'].nunique().sort_values(ascending=False)\n",
        "\n",
        "condition_drugs[condition_drugs.shape[0]-20:condition_drugs.shape[0]].plot(kind=\"bar\", figsize = (14,6), fontsize = 10,color=\"green\")\n",
        "plt.xlabel(\"\", fontsize = 20)\n",
        "plt.ylabel(\"\", fontsize = 20)\n",
        "plt.title(\"Bottom20 : The number of drugs per condition.\", fontsize = 20)"
      ],
      "execution_count": 0,
      "outputs": [
        {
          "output_type": "execute_result",
          "data": {
            "text/plain": [
              "Text(0.5, 1.0, 'Bottom20 : The number of drugs per condition.')"
            ]
          },
          "metadata": {
            "tags": []
          },
          "execution_count": 22
        },
        {
          "output_type": "display_data",
          "data": {
            "image/png": "[encoded data removed]",
            "text/plain": [
              "<Figure size 1008x432 with 1 Axes>"
            ]
          },
          "metadata": {
            "tags": []
          }
        }
      ]
    },
    {
      "cell_type": "code",
      "metadata": {
        "id": "bOEeGkoKG7Ll",
        "colab_type": "code",
        "outputId": "337def07-2171-4126-8535-16e1c278a417",
        "colab": {
          "base_uri": "https://localhost:8080/",
          "height": 1969
        }
      },
      "source": [
        "#making dataframe in which condition has only 1 drug  \n",
        "df_condition=pd.DataFrame(df_condition[df_condition.drugName==1])\n",
        "df_condition"
      ],
      "execution_count": 0,
      "outputs": [
        {
          "output_type": "execute_result",
          "data": {
            "text/html": [
              "<div>\n",
              "<style scoped>\n",
              "    .dataframe tbody tr th:only-of-type {\n",
              "        vertical-align: middle;\n",
              "    }\n",
              "\n",
              "    .dataframe tbody tr th {\n",
              "        vertical-align: top;\n",
              "    }\n",
              "\n",
              "    .dataframe thead th {\n",
              "        text-align: right;\n",
              "    }\n",
              "</style>\n",
              "<table border=\"1\" class=\"dataframe\">\n",
              "  <thead>\n",
              "    <tr style=\"text-align: right;\">\n",
              "      <th></th>\n",
              "      <th>condition</th>\n",
              "      <th>drugName</th>\n",
              "    </tr>\n",
              "  </thead>\n",
              "  <tbody>\n",
              "    <tr>\n",
              "      <th>701</th>\n",
              "      <td>Uveitis, Posteri</td>\n",
              "      <td>1</td>\n",
              "    </tr>\n",
              "    <tr>\n",
              "      <th>702</th>\n",
              "      <td>Pseudogout, Prophylaxis</td>\n",
              "      <td>1</td>\n",
              "    </tr>\n",
              "    <tr>\n",
              "      <th>703</th>\n",
              "      <td>Infectious Diarrhea</td>\n",
              "      <td>1</td>\n",
              "    </tr>\n",
              "    <tr>\n",
              "      <th>704</th>\n",
              "      <td>Thyroid Suppression Test</td>\n",
              "      <td>1</td>\n",
              "    </tr>\n",
              "    <tr>\n",
              "      <th>705</th>\n",
              "      <td>Angioedema</td>\n",
              "      <td>1</td>\n",
              "    </tr>\n",
              "    <tr>\n",
              "      <th>706</th>\n",
              "      <td>Scleroderma</td>\n",
              "      <td>1</td>\n",
              "    </tr>\n",
              "    <tr>\n",
              "      <th>707</th>\n",
              "      <td>mis</td>\n",
              "      <td>1</td>\n",
              "    </tr>\n",
              "    <tr>\n",
              "      <th>708</th>\n",
              "      <td>Anti NMDA Receptor Encephalitis</td>\n",
              "      <td>1</td>\n",
              "    </tr>\n",
              "    <tr>\n",
              "      <th>709</th>\n",
              "      <td>mist (</td>\n",
              "      <td>1</td>\n",
              "    </tr>\n",
              "    <tr>\n",
              "      <th>710</th>\n",
              "      <td>Pruritus of Partial Biliary Obstruction</td>\n",
              "      <td>1</td>\n",
              "    </tr>\n",
              "    <tr>\n",
              "      <th>711</th>\n",
              "      <td>Gestational Diabetes</td>\n",
              "      <td>1</td>\n",
              "    </tr>\n",
              "    <tr>\n",
              "      <th>712</th>\n",
              "      <td>moterol / mometasone)</td>\n",
              "      <td>1</td>\n",
              "    </tr>\n",
              "    <tr>\n",
              "      <th>713</th>\n",
              "      <td>Prosthetic Heart Valves, Mechanical Valves - T...</td>\n",
              "      <td>1</td>\n",
              "    </tr>\n",
              "    <tr>\n",
              "      <th>714</th>\n",
              "      <td>Sleep Paralysis</td>\n",
              "      <td>1</td>\n",
              "    </tr>\n",
              "    <tr>\n",
              "      <th>715</th>\n",
              "      <td>Pseudomembranous Colitis</td>\n",
              "      <td>1</td>\n",
              "    </tr>\n",
              "    <tr>\n",
              "      <th>716</th>\n",
              "      <td>Somat</td>\n",
              "      <td>1</td>\n",
              "    </tr>\n",
              "    <tr>\n",
              "      <th>717</th>\n",
              "      <td>min / sitagliptin)</td>\n",
              "      <td>1</td>\n",
              "    </tr>\n",
              "    <tr>\n",
              "      <th>718</th>\n",
              "      <td>min / saxagliptin)</td>\n",
              "      <td>1</td>\n",
              "    </tr>\n",
              "    <tr>\n",
              "      <th>719</th>\n",
              "      <td>Intermittent Explosive Disorde</td>\n",
              "      <td>1</td>\n",
              "    </tr>\n",
              "    <tr>\n",
              "      <th>720</th>\n",
              "      <td>Systemic Candidiasis</td>\n",
              "      <td>1</td>\n",
              "    </tr>\n",
              "    <tr>\n",
              "      <th>721</th>\n",
              "      <td>min / rosiglitazone)</td>\n",
              "      <td>1</td>\n",
              "    </tr>\n",
              "    <tr>\n",
              "      <th>722</th>\n",
              "      <td>Tic Disorde</td>\n",
              "      <td>1</td>\n",
              "    </tr>\n",
              "    <tr>\n",
              "      <th>723</th>\n",
              "      <td>Tinea Barbae</td>\n",
              "      <td>1</td>\n",
              "    </tr>\n",
              "    <tr>\n",
              "      <th>724</th>\n",
              "      <td>Short Stature for Age</td>\n",
              "      <td>1</td>\n",
              "    </tr>\n",
              "    <tr>\n",
              "      <th>725</th>\n",
              "      <td>Short Stature</td>\n",
              "      <td>1</td>\n",
              "    </tr>\n",
              "    <tr>\n",
              "      <th>726</th>\n",
              "      <td>min / pioglitazone)</td>\n",
              "      <td>1</td>\n",
              "    </tr>\n",
              "    <tr>\n",
              "      <th>727</th>\n",
              "      <td>Pulmonary Edema</td>\n",
              "      <td>1</td>\n",
              "    </tr>\n",
              "    <tr>\n",
              "      <th>728</th>\n",
              "      <td>mance Anxiety</td>\n",
              "      <td>1</td>\n",
              "    </tr>\n",
              "    <tr>\n",
              "      <th>729</th>\n",
              "      <td>Asystole</td>\n",
              "      <td>1</td>\n",
              "    </tr>\n",
              "    <tr>\n",
              "      <th>730</th>\n",
              "      <td>Jet Lag</td>\n",
              "      <td>1</td>\n",
              "    </tr>\n",
              "    <tr>\n",
              "      <th>...</th>\n",
              "      <td>...</td>\n",
              "      <td>...</td>\n",
              "    </tr>\n",
              "    <tr>\n",
              "      <th>806</th>\n",
              "      <td>Postpartum Breast Pain</td>\n",
              "      <td>1</td>\n",
              "    </tr>\n",
              "    <tr>\n",
              "      <th>807</th>\n",
              "      <td>Neurotic Depression</td>\n",
              "      <td>1</td>\n",
              "    </tr>\n",
              "    <tr>\n",
              "      <th>808</th>\n",
              "      <td>Autoimmune Hemolytic Anemia</td>\n",
              "      <td>1</td>\n",
              "    </tr>\n",
              "    <tr>\n",
              "      <th>809</th>\n",
              "      <td>Neurosis</td>\n",
              "      <td>1</td>\n",
              "    </tr>\n",
              "    <tr>\n",
              "      <th>810</th>\n",
              "      <td>Neuritis</td>\n",
              "      <td>1</td>\n",
              "    </tr>\n",
              "    <tr>\n",
              "      <th>811</th>\n",
              "      <td>Nephrocalcinosis</td>\n",
              "      <td>1</td>\n",
              "    </tr>\n",
              "    <tr>\n",
              "      <th>812</th>\n",
              "      <td>ge HCT (amlodipine / hydrochlorothiazide / val...</td>\n",
              "      <td>1</td>\n",
              "    </tr>\n",
              "    <tr>\n",
              "      <th>813</th>\n",
              "      <td>Neoplastic Diseases</td>\n",
              "      <td>1</td>\n",
              "    </tr>\n",
              "    <tr>\n",
              "      <th>814</th>\n",
              "      <td>Toothache</td>\n",
              "      <td>1</td>\n",
              "    </tr>\n",
              "    <tr>\n",
              "      <th>815</th>\n",
              "      <td>ge (amlodipine / valsartan)</td>\n",
              "      <td>1</td>\n",
              "    </tr>\n",
              "    <tr>\n",
              "      <th>816</th>\n",
              "      <td>Hemangioma</td>\n",
              "      <td>1</td>\n",
              "    </tr>\n",
              "    <tr>\n",
              "      <th>817</th>\n",
              "      <td>Q Feve</td>\n",
              "      <td>1</td>\n",
              "    </tr>\n",
              "    <tr>\n",
              "      <th>818</th>\n",
              "      <td>Urinary Retention</td>\n",
              "      <td>1</td>\n",
              "    </tr>\n",
              "    <tr>\n",
              "      <th>819</th>\n",
              "      <td>Diagnostic Bronchograms</td>\n",
              "      <td>1</td>\n",
              "    </tr>\n",
              "    <tr>\n",
              "      <th>820</th>\n",
              "      <td>Steroid Responsive Inflammatory Conditions</td>\n",
              "      <td>1</td>\n",
              "    </tr>\n",
              "    <tr>\n",
              "      <th>821</th>\n",
              "      <td>Cluster-Tic Syndrome</td>\n",
              "      <td>1</td>\n",
              "    </tr>\n",
              "    <tr>\n",
              "      <th>822</th>\n",
              "      <td>Nausea (phosphorated carbohydrate solution)</td>\n",
              "      <td>1</td>\n",
              "    </tr>\n",
              "    <tr>\n",
              "      <th>823</th>\n",
              "      <td>Ramsay Hunt Syndrome</td>\n",
              "      <td>1</td>\n",
              "    </tr>\n",
              "    <tr>\n",
              "      <th>824</th>\n",
              "      <td>Rat-bite Feve</td>\n",
              "      <td>1</td>\n",
              "    </tr>\n",
              "    <tr>\n",
              "      <th>825</th>\n",
              "      <td>Hemorrhoids (pramoxine / zinc oxide)</td>\n",
              "      <td>1</td>\n",
              "    </tr>\n",
              "    <tr>\n",
              "      <th>826</th>\n",
              "      <td>Myotonia Congenita</td>\n",
              "      <td>1</td>\n",
              "    </tr>\n",
              "    <tr>\n",
              "      <th>827</th>\n",
              "      <td>Sepsis</td>\n",
              "      <td>1</td>\n",
              "    </tr>\n",
              "    <tr>\n",
              "      <th>828</th>\n",
              "      <td>ailure to Thrive</td>\n",
              "      <td>1</td>\n",
              "    </tr>\n",
              "    <tr>\n",
              "      <th>829</th>\n",
              "      <td>Hepatitis B Prevention</td>\n",
              "      <td>1</td>\n",
              "    </tr>\n",
              "    <tr>\n",
              "      <th>830</th>\n",
              "      <td>Transverse Myelitis</td>\n",
              "      <td>1</td>\n",
              "    </tr>\n",
              "    <tr>\n",
              "      <th>831</th>\n",
              "      <td>Tympanostomy Tube Placement Surgery</td>\n",
              "      <td>1</td>\n",
              "    </tr>\n",
              "    <tr>\n",
              "      <th>832</th>\n",
              "      <td>Muscle Twitching</td>\n",
              "      <td>1</td>\n",
              "    </tr>\n",
              "    <tr>\n",
              "      <th>833</th>\n",
              "      <td>Somatoform Pain Disorde</td>\n",
              "      <td>1</td>\n",
              "    </tr>\n",
              "    <tr>\n",
              "      <th>834</th>\n",
              "      <td>acial Lipoatrophy</td>\n",
              "      <td>1</td>\n",
              "    </tr>\n",
              "    <tr>\n",
              "      <th>835</th>\n",
              "      <td>Rabies Prophylaxis</td>\n",
              "      <td>1</td>\n",
              "    </tr>\n",
              "  </tbody>\n",
              "</table>\n",
              "<p>135 rows × 2 columns</p>\n",
              "</div>"
            ],
            "text/plain": [
              "                                             condition  drugName\n",
              "701                                   Uveitis, Posteri         1\n",
              "702                            Pseudogout, Prophylaxis         1\n",
              "703                                Infectious Diarrhea         1\n",
              "704                           Thyroid Suppression Test         1\n",
              "705                                         Angioedema         1\n",
              "706                                        Scleroderma         1\n",
              "707                                                mis         1\n",
              "708                    Anti NMDA Receptor Encephalitis         1\n",
              "709                                             mist (         1\n",
              "710            Pruritus of Partial Biliary Obstruction         1\n",
              "711                               Gestational Diabetes         1\n",
              "712                              moterol / mometasone)         1\n",
              "713  Prosthetic Heart Valves, Mechanical Valves - T...         1\n",
              "714                                    Sleep Paralysis         1\n",
              "715                           Pseudomembranous Colitis         1\n",
              "716                                              Somat         1\n",
              "717                                 min / sitagliptin)         1\n",
              "718                                 min / saxagliptin)         1\n",
              "719                     Intermittent Explosive Disorde         1\n",
              "720                               Systemic Candidiasis         1\n",
              "721                               min / rosiglitazone)         1\n",
              "722                                        Tic Disorde         1\n",
              "723                                       Tinea Barbae         1\n",
              "724                              Short Stature for Age         1\n",
              "725                                      Short Stature         1\n",
              "726                                min / pioglitazone)         1\n",
              "727                                    Pulmonary Edema         1\n",
              "728                                      mance Anxiety         1\n",
              "729                                           Asystole         1\n",
              "730                                            Jet Lag         1\n",
              "..                                                 ...       ...\n",
              "806                             Postpartum Breast Pain         1\n",
              "807                                Neurotic Depression         1\n",
              "808                        Autoimmune Hemolytic Anemia         1\n",
              "809                                           Neurosis         1\n",
              "810                                           Neuritis         1\n",
              "811                                   Nephrocalcinosis         1\n",
              "812  ge HCT (amlodipine / hydrochlorothiazide / val...         1\n",
              "813                                Neoplastic Diseases         1\n",
              "814                                          Toothache         1\n",
              "815                        ge (amlodipine / valsartan)         1\n",
              "816                                         Hemangioma         1\n",
              "817                                             Q Feve         1\n",
              "818                                  Urinary Retention         1\n",
              "819                            Diagnostic Bronchograms         1\n",
              "820         Steroid Responsive Inflammatory Conditions         1\n",
              "821                               Cluster-Tic Syndrome         1\n",
              "822        Nausea (phosphorated carbohydrate solution)         1\n",
              "823                               Ramsay Hunt Syndrome         1\n",
              "824                                      Rat-bite Feve         1\n",
              "825               Hemorrhoids (pramoxine / zinc oxide)         1\n",
              "826                                 Myotonia Congenita         1\n",
              "827                                             Sepsis         1\n",
              "828                                   ailure to Thrive         1\n",
              "829                             Hepatitis B Prevention         1\n",
              "830                                Transverse Myelitis         1\n",
              "831                Tympanostomy Tube Placement Surgery         1\n",
              "832                                   Muscle Twitching         1\n",
              "833                            Somatoform Pain Disorde         1\n",
              "834                                  acial Lipoatrophy         1\n",
              "835                                 Rabies Prophylaxis         1\n",
              "\n",
              "[135 rows x 2 columns]"
            ]
          },
          "metadata": {
            "tags": []
          },
          "execution_count": 23
        }
      ]
    },
    {
      "cell_type": "code",
      "metadata": {
        "id": "g1vxVW8qG7Lp",
        "colab_type": "code",
        "colab": {}
      },
      "source": [
        "#making list of those conditions\n",
        "conditions=[]\n",
        "for i in df_condition['condition']:\n",
        "    conditions.append(i)"
      ],
      "execution_count": 0,
      "outputs": []
    },
    {
      "cell_type": "code",
      "metadata": {
        "id": "YzAWWzBrG7Ls",
        "colab_type": "code",
        "colab": {}
      },
      "source": [
        "#removing those conditions which are in the list\n",
        "for i in conditions:\n",
        "    df=df[(df.condition != i) ]"
      ],
      "execution_count": 0,
      "outputs": []
    },
    {
      "cell_type": "code",
      "metadata": {
        "id": "b27aVeF3G7Lw",
        "colab_type": "code",
        "outputId": "5e3fcaad-0e59-41f1-e3b6-03819a8c00ad",
        "colab": {
          "base_uri": "https://localhost:8080/",
          "height": 34
        }
      },
      "source": [
        "df.shape"
      ],
      "execution_count": 0,
      "outputs": [
        {
          "output_type": "execute_result",
          "data": {
            "text/plain": [
              "(212053, 7)"
            ]
          },
          "metadata": {
            "tags": []
          },
          "execution_count": 26
        }
      ]
    },
    {
      "cell_type": "code",
      "metadata": {
        "id": "Lq2Ggq5PG7L1",
        "colab_type": "code",
        "outputId": "67d0edd0-2910-4292-babc-248d5fa0d0ba",
        "colab": {
          "base_uri": "https://localhost:8080/",
          "height": 68
        }
      },
      "source": [
        "#### Recommendtion buidling\n",
        "df['review'][1]"
      ],
      "execution_count": 0,
      "outputs": [
        {
          "output_type": "execute_result",
          "data": {
            "text/plain": [
              "1    \"My son is halfway through his fourth week of ...\n",
              "1    \"My son has Crohn&#039;s disease and has done ...\n",
              "Name: review, dtype: object"
            ]
          },
          "metadata": {
            "tags": []
          },
          "execution_count": 27
        }
      ]
    },
    {
      "cell_type": "code",
      "metadata": {
        "id": "Q6vbXmUUG7L6",
        "colab_type": "code",
        "outputId": "7b263275-bdc5-4ac0-8e44-99b181a6c44a",
        "colab": {
          "base_uri": "https://localhost:8080/",
          "height": 51
        }
      },
      "source": [
        "## Review preprocessing\n",
        "from bs4 import BeautifulSoup\n",
        "import nltk\n",
        "nltk.download('stopwords')\n",
        "from nltk.corpus import stopwords\n",
        "from nltk.stem.snowball import SnowballStemmer"
      ],
      "execution_count": 0,
      "outputs": [
        {
          "output_type": "stream",
          "text": [
            "[nltk_data] Downloading package stopwords to /root/nltk_data...\n",
            "[nltk_data]   Unzipping corpora/stopwords.zip.\n"
          ],
          "name": "stdout"
        }
      ]
    },
    {
      "cell_type": "code",
      "metadata": {
        "id": "2wvJmM_sG7L9",
        "colab_type": "code",
        "outputId": "f22adc33-9624-4b2a-828b-c03b8105cea9",
        "colab": {
          "base_uri": "https://localhost:8080/",
          "height": 3060
        }
      },
      "source": [
        "## let's see what words are used as stopwords. There are many words that include not, like needn't. \n",
        "##These words are key parts of emotional analysis, so we will remove them from stopwords.\n",
        "stop_words = set(stopwords.words('english'))\n",
        "stop_words"
      ],
      "execution_count": 0,
      "outputs": [
        {
          "output_type": "execute_result",
          "data": {
            "text/plain": [
              "{'a',\n",
              " 'about',\n",
              " 'above',\n",
              " 'after',\n",
              " 'again',\n",
              " 'against',\n",
              " 'ain',\n",
              " 'all',\n",
              " 'am',\n",
              " 'an',\n",
              " 'and',\n",
              " 'any',\n",
              " 'are',\n",
              " 'aren',\n",
              " \"aren't\",\n",
              " 'as',\n",
              " 'at',\n",
              " 'be',\n",
              " 'because',\n",
              " 'been',\n",
              " 'before',\n",
              " 'being',\n",
              " 'below',\n",
              " 'between',\n",
              " 'both',\n",
              " 'but',\n",
              " 'by',\n",
              " 'can',\n",
              " 'couldn',\n",
              " \"couldn't\",\n",
              " 'd',\n",
              " 'did',\n",
              " 'didn',\n",
              " \"didn't\",\n",
              " 'do',\n",
              " 'does',\n",
              " 'doesn',\n",
              " \"doesn't\",\n",
              " 'doing',\n",
              " 'don',\n",
              " \"don't\",\n",
              " 'down',\n",
              " 'during',\n",
              " 'each',\n",
              " 'few',\n",
              " 'for',\n",
              " 'from',\n",
              " 'further',\n",
              " 'had',\n",
              " 'hadn',\n",
              " \"hadn't\",\n",
              " 'has',\n",
              " 'hasn',\n",
              " \"hasn't\",\n",
              " 'have',\n",
              " 'haven',\n",
              " \"haven't\",\n",
              " 'having',\n",
              " 'he',\n",
              " 'her',\n",
              " 'here',\n",
              " 'hers',\n",
              " 'herself',\n",
              " 'him',\n",
              " 'himself',\n",
              " 'his',\n",
              " 'how',\n",
              " 'i',\n",
              " 'if',\n",
              " 'in',\n",
              " 'into',\n",
              " 'is',\n",
              " 'isn',\n",
              " \"isn't\",\n",
              " 'it',\n",
              " \"it's\",\n",
              " 'its',\n",
              " 'itself',\n",
              " 'just',\n",
              " 'll',\n",
              " 'm',\n",
              " 'ma',\n",
              " 'me',\n",
              " 'mightn',\n",
              " \"mightn't\",\n",
              " 'more',\n",
              " 'most',\n",
              " 'mustn',\n",
              " \"mustn't\",\n",
              " 'my',\n",
              " 'myself',\n",
              " 'needn',\n",
              " \"needn't\",\n",
              " 'no',\n",
              " 'nor',\n",
              " 'not',\n",
              " 'now',\n",
              " 'o',\n",
              " 'of',\n",
              " 'off',\n",
              " 'on',\n",
              " 'once',\n",
              " 'only',\n",
              " 'or',\n",
              " 'other',\n",
              " 'our',\n",
              " 'ours',\n",
              " 'ourselves',\n",
              " 'out',\n",
              " 'over',\n",
              " 'own',\n",
              " 're',\n",
              " 's',\n",
              " 'same',\n",
              " 'shan',\n",
              " \"shan't\",\n",
              " 'she',\n",
              " \"she's\",\n",
              " 'should',\n",
              " \"should've\",\n",
              " 'shouldn',\n",
              " \"shouldn't\",\n",
              " 'so',\n",
              " 'some',\n",
              " 'such',\n",
              " 't',\n",
              " 'than',\n",
              " 'that',\n",
              " \"that'll\",\n",
              " 'the',\n",
              " 'their',\n",
              " 'theirs',\n",
              " 'them',\n",
              " 'themselves',\n",
              " 'then',\n",
              " 'there',\n",
              " 'these',\n",
              " 'they',\n",
              " 'this',\n",
              " 'those',\n",
              " 'through',\n",
              " 'to',\n",
              " 'too',\n",
              " 'under',\n",
              " 'until',\n",
              " 'up',\n",
              " 've',\n",
              " 'very',\n",
              " 'was',\n",
              " 'wasn',\n",
              " \"wasn't\",\n",
              " 'we',\n",
              " 'were',\n",
              " 'weren',\n",
              " \"weren't\",\n",
              " 'what',\n",
              " 'when',\n",
              " 'where',\n",
              " 'which',\n",
              " 'while',\n",
              " 'who',\n",
              " 'whom',\n",
              " 'why',\n",
              " 'will',\n",
              " 'with',\n",
              " 'won',\n",
              " \"won't\",\n",
              " 'wouldn',\n",
              " \"wouldn't\",\n",
              " 'y',\n",
              " 'you',\n",
              " \"you'd\",\n",
              " \"you'll\",\n",
              " \"you're\",\n",
              " \"you've\",\n",
              " 'your',\n",
              " 'yours',\n",
              " 'yourself',\n",
              " 'yourselves'}"
            ]
          },
          "metadata": {
            "tags": []
          },
          "execution_count": 29
        }
      ]
    },
    {
      "cell_type": "code",
      "metadata": {
        "id": "-PzQDF6BG7MB",
        "colab_type": "code",
        "colab": {}
      },
      "source": [
        "not_stop = [\"aren't\",\"couldn't\",\"didn't\",\"doesn't\",\"don't\",\"hadn't\",\"hasn't\",\"haven't\",\"isn't\",\"mightn't\",\"mustn't\",\"needn't\",\"no\",\"nor\",\"not\",\"shan't\",\"shouldn't\",\"wasn't\",\"weren't\",\"wouldn't\"]\n",
        "for i in not_stop:\n",
        "    stop_words.remove(i)"
      ],
      "execution_count": 0,
      "outputs": []
    },
    {
      "cell_type": "code",
      "metadata": {
        "id": "Lfx5AOXNG7MF",
        "colab_type": "code",
        "colab": {}
      },
      "source": [
        "import nltk\n",
        "from nltk.sentiment.vader import SentimentIntensityAnalyzer \n",
        "sid=SentimentIntensityAnalyzer "
      ],
      "execution_count": 0,
      "outputs": []
    },
    {
      "cell_type": "code",
      "metadata": {
        "id": "Nhbmr0peG7MH",
        "colab_type": "code",
        "outputId": "ccd85f21-dd41-42a6-977a-30a60182eb81",
        "colab": {
          "base_uri": "https://localhost:8080/",
          "height": 497
        }
      },
      "source": [
        "from wordcloud import WordCloud, STOPWORDS\n",
        "def plot_wordcloud(text, mask=None, max_words=200, max_font_size=100, figure_size=(12,8), \n",
        "                   title = None, title_size=40, image_color=False):\n",
        "    stopwords = stop_words\n",
        "    more_stopwords = {'one', 'br', 'Po', 'th', 'sayi', 'fo', 'Unknown'}\n",
        "    stopwords = stopwords.union(more_stopwords)\n",
        "\n",
        "    wordcloud = WordCloud(background_color='white',\n",
        "                    stopwords = stopwords,\n",
        "                    max_words = max_words,\n",
        "                    max_font_size = max_font_size, \n",
        "                    random_state = 42,\n",
        "                    width=800, \n",
        "                    height=400,\n",
        "                    mask = mask)\n",
        "    wordcloud.generate(str(text))\n",
        "    \n",
        "    plt.figure(figsize=figure_size)\n",
        "    if image_color:\n",
        "        image_colors = ImageColorGenerator(mask);\n",
        "        plt.imshow(wordcloud.recolor(color_func=image_colors), interpolation=\"bilinear\");\n",
        "        plt.title(title, fontdict={'size': title_size,  \n",
        "                                  'verticalalignment': 'bottom'})\n",
        "    else:\n",
        "        plt.imshow(wordcloud);\n",
        "        plt.title(title, fontdict={'size': title_size, 'color': 'black', \n",
        "                                  'verticalalignment': 'bottom'})\n",
        "    plt.axis('off');\n",
        "    plt.tight_layout()  \n",
        "    \n",
        "plot_wordcloud(stop_words, title=\"Word Cloud of stops\")"
      ],
      "execution_count": 0,
      "outputs": [
        {
          "output_type": "display_data",
          "data": {
            "image/png": "[encoded data removed]",
            "text/plain": [
              "<Figure size 864x576 with 1 Axes>"
            ]
          },
          "metadata": {
            "tags": []
          }
        }
      ]
    },
    {
      "cell_type": "code",
      "metadata": {
        "id": "vyNz7SV5G7MK",
        "colab_type": "code",
        "colab": {}
      },
      "source": [
        "stemmer = SnowballStemmer('english')\n",
        "\n",
        "def review_to_words(raw_review):\n",
        "    # 1. Delete HTML \n",
        "    review_text = BeautifulSoup(raw_review, 'html.parser').get_text()\n",
        "    # 2. Make a space\n",
        "    letters_only = re.sub('[^a-zA-Z]', ' ', review_text)\n",
        "    # 3. lower letters\n",
        "    words = letters_only.lower().split()\n",
        "    # 5. Stopwords \n",
        "    meaningful_words = [w for w in words if not w in stop_words]\n",
        "    # 6. Stemming\n",
        "    stemming_words = [stemmer.stem(w) for w in meaningful_words]\n",
        "    # 7. space join words\n",
        "    return( ' '.join(stemming_words))\n"
      ],
      "execution_count": 0,
      "outputs": []
    },
    {
      "cell_type": "code",
      "metadata": {
        "id": "_fRfYVnfG7MM",
        "colab_type": "code",
        "outputId": "3f087824-21e2-4616-ec5d-ad16aedb020a",
        "colab": {
          "base_uri": "https://localhost:8080/",
          "height": 51
        }
      },
      "source": [
        "import re\n",
        "%time df['review_clean'] = df['review'].apply(review_to_words)"
      ],
      "execution_count": 0,
      "outputs": [
        {
          "output_type": "stream",
          "text": [
            "CPU times: user 3min, sys: 1.04 s, total: 3min 2s\n",
            "Wall time: 3min 2s\n"
          ],
          "name": "stdout"
        }
      ]
    },
    {
      "cell_type": "code",
      "metadata": {
        "id": "mnV2Z8bYG7MP",
        "colab_type": "code",
        "outputId": "e64d585c-0e63-4e2f-9858-7193b455aa14",
        "colab": {
          "base_uri": "https://localhost:8080/",
          "height": 529
        }
      },
      "source": [
        "### sentiment analysis to make a rating for the drugs \n",
        "df['sentiment'] = df[\"rating\"].apply(lambda x: 1 if x > 5 else 0)\n",
        "df.head(10)"
      ],
      "execution_count": 0,
      "outputs": [
        {
          "output_type": "execute_result",
          "data": {
            "text/html": [
              "<div>\n",
              "<style scoped>\n",
              "    .dataframe tbody tr th:only-of-type {\n",
              "        vertical-align: middle;\n",
              "    }\n",
              "\n",
              "    .dataframe tbody tr th {\n",
              "        vertical-align: top;\n",
              "    }\n",
              "\n",
              "    .dataframe thead th {\n",
              "        text-align: right;\n",
              "    }\n",
              "</style>\n",
              "<table border=\"1\" class=\"dataframe\">\n",
              "  <thead>\n",
              "    <tr style=\"text-align: right;\">\n",
              "      <th></th>\n",
              "      <th>uniqueID</th>\n",
              "      <th>drugName</th>\n",
              "      <th>condition</th>\n",
              "      <th>review</th>\n",
              "      <th>rating</th>\n",
              "      <th>date</th>\n",
              "      <th>usefulCount</th>\n",
              "      <th>review_clean</th>\n",
              "      <th>sentiment</th>\n",
              "    </tr>\n",
              "  </thead>\n",
              "  <tbody>\n",
              "    <tr>\n",
              "      <th>0</th>\n",
              "      <td>206461</td>\n",
              "      <td>Valsartan</td>\n",
              "      <td>Left Ventricular Dysfunction</td>\n",
              "      <td>\"It has no side effect, I take it in combinati...</td>\n",
              "      <td>9</td>\n",
              "      <td>20-May-12</td>\n",
              "      <td>27</td>\n",
              "      <td>no side effect take combin bystol mg fish oil</td>\n",
              "      <td>1</td>\n",
              "    </tr>\n",
              "    <tr>\n",
              "      <th>1</th>\n",
              "      <td>95260</td>\n",
              "      <td>Guanfacine</td>\n",
              "      <td>ADHD</td>\n",
              "      <td>\"My son is halfway through his fourth week of ...</td>\n",
              "      <td>8</td>\n",
              "      <td>27-Apr-10</td>\n",
              "      <td>192</td>\n",
              "      <td>son halfway fourth week intuniv becam concern ...</td>\n",
              "      <td>1</td>\n",
              "    </tr>\n",
              "    <tr>\n",
              "      <th>2</th>\n",
              "      <td>92703</td>\n",
              "      <td>Lybrel</td>\n",
              "      <td>Birth Control</td>\n",
              "      <td>\"I used to take another oral contraceptive, wh...</td>\n",
              "      <td>5</td>\n",
              "      <td>14-Dec-09</td>\n",
              "      <td>17</td>\n",
              "      <td>use take anoth oral contracept pill cycl happi...</td>\n",
              "      <td>0</td>\n",
              "    </tr>\n",
              "    <tr>\n",
              "      <th>3</th>\n",
              "      <td>138000</td>\n",
              "      <td>Ortho Evra</td>\n",
              "      <td>Birth Control</td>\n",
              "      <td>\"This is my first time using any form of birth...</td>\n",
              "      <td>8</td>\n",
              "      <td>03-Nov-15</td>\n",
              "      <td>10</td>\n",
              "      <td>first time use form birth control glad went pa...</td>\n",
              "      <td>1</td>\n",
              "    </tr>\n",
              "    <tr>\n",
              "      <th>4</th>\n",
              "      <td>35696</td>\n",
              "      <td>Buprenorphine / naloxone</td>\n",
              "      <td>Opiate Dependence</td>\n",
              "      <td>\"Suboxone has completely turned my life around...</td>\n",
              "      <td>9</td>\n",
              "      <td>27-Nov-16</td>\n",
              "      <td>37</td>\n",
              "      <td>suboxon complet turn life around feel healthie...</td>\n",
              "      <td>1</td>\n",
              "    </tr>\n",
              "    <tr>\n",
              "      <th>5</th>\n",
              "      <td>155963</td>\n",
              "      <td>Cialis</td>\n",
              "      <td>Benign Prostatic Hyperplasia</td>\n",
              "      <td>\"2nd day on 5mg started to work with rock hard...</td>\n",
              "      <td>2</td>\n",
              "      <td>28-Nov-15</td>\n",
              "      <td>43</td>\n",
              "      <td>nd day mg start work rock hard erect howev exp...</td>\n",
              "      <td>0</td>\n",
              "    </tr>\n",
              "    <tr>\n",
              "      <th>6</th>\n",
              "      <td>165907</td>\n",
              "      <td>Levonorgestrel</td>\n",
              "      <td>Emergency Contraception</td>\n",
              "      <td>\"He pulled out, but he cummed a bit in me. I t...</td>\n",
              "      <td>1</td>\n",
              "      <td>07-Mar-17</td>\n",
              "      <td>5</td>\n",
              "      <td>pull cum bit took plan b hour later took pregn...</td>\n",
              "      <td>0</td>\n",
              "    </tr>\n",
              "    <tr>\n",
              "      <th>7</th>\n",
              "      <td>102654</td>\n",
              "      <td>Aripiprazole</td>\n",
              "      <td>Bipolar Disorde</td>\n",
              "      <td>\"Abilify changed my life. There is hope. I was...</td>\n",
              "      <td>10</td>\n",
              "      <td>14-Mar-15</td>\n",
              "      <td>32</td>\n",
              "      <td>abilifi chang life hope zoloft clonidin first ...</td>\n",
              "      <td>1</td>\n",
              "    </tr>\n",
              "    <tr>\n",
              "      <th>8</th>\n",
              "      <td>74811</td>\n",
              "      <td>Keppra</td>\n",
              "      <td>Epilepsy</td>\n",
              "      <td>\" I Ve had  nothing but problems with the Kepp...</td>\n",
              "      <td>1</td>\n",
              "      <td>09-Aug-16</td>\n",
              "      <td>11</td>\n",
              "      <td>noth problem keppera constant shake arm leg pi...</td>\n",
              "      <td>0</td>\n",
              "    </tr>\n",
              "    <tr>\n",
              "      <th>9</th>\n",
              "      <td>48928</td>\n",
              "      <td>Ethinyl estradiol / levonorgestrel</td>\n",
              "      <td>Birth Control</td>\n",
              "      <td>\"I had been on the pill for many years. When m...</td>\n",
              "      <td>8</td>\n",
              "      <td>08-Dec-16</td>\n",
              "      <td>1</td>\n",
              "      <td>pill mani year doctor chang rx chateal effect ...</td>\n",
              "      <td>1</td>\n",
              "    </tr>\n",
              "  </tbody>\n",
              "</table>\n",
              "</div>"
            ],
            "text/plain": [
              "   uniqueID  ... sentiment\n",
              "0    206461  ...         1\n",
              "1     95260  ...         1\n",
              "2     92703  ...         0\n",
              "3    138000  ...         1\n",
              "4     35696  ...         1\n",
              "5    155963  ...         0\n",
              "6    165907  ...         0\n",
              "7    102654  ...         1\n",
              "8     74811  ...         0\n",
              "9     48928  ...         1\n",
              "\n",
              "[10 rows x 9 columns]"
            ]
          },
          "metadata": {
            "tags": []
          },
          "execution_count": 35
        }
      ]
    },
    {
      "cell_type": "code",
      "metadata": {
        "id": "UoRl3CiJG7MS",
        "colab_type": "code",
        "colab": {}
      },
      "source": [
        "# converting the date into datetime format\n",
        "df['date'] = pd.to_datetime(df['date'])\n",
        "\n",
        "# now extracting year from date\n",
        "df['Year'] = df['date'].dt.year\n",
        "\n",
        "# extracting the month from the date\n",
        "df['month'] = df['date'].dt.month\n",
        "\n",
        "# extracting the days from the date\n",
        "df['day'] = df['date'].dt.day"
      ],
      "execution_count": 0,
      "outputs": []
    },
    {
      "cell_type": "code",
      "metadata": {
        "id": "SCoUMIoQG7MU",
        "colab_type": "code",
        "outputId": "970df34a-3a7d-4b12-8861-e999b0642c46",
        "colab": {
          "base_uri": "https://localhost:8080/",
          "height": 1071
        }
      },
      "source": [
        "df['date'].unique"
      ],
      "execution_count": 0,
      "outputs": [
        {
          "output_type": "execute_result",
          "data": {
            "text/plain": [
              "<bound method Series.unique of 0       2012-05-20\n",
              "1       2010-04-27\n",
              "2       2009-12-14\n",
              "3       2015-11-03\n",
              "4       2016-11-27\n",
              "5       2015-11-28\n",
              "6       2017-03-07\n",
              "7       2015-03-14\n",
              "8       2016-08-09\n",
              "9       2016-12-08\n",
              "10      2015-01-01\n",
              "11      2017-03-09\n",
              "12      2013-07-06\n",
              "13      2017-09-07\n",
              "14      2014-08-07\n",
              "15      2017-01-19\n",
              "16      2017-09-22\n",
              "17      2017-03-15\n",
              "18      2014-11-09\n",
              "19      2015-09-01\n",
              "20      2010-07-09\n",
              "21      2016-04-03\n",
              "22      2014-08-11\n",
              "23      2017-09-16\n",
              "24      2017-04-17\n",
              "25      2015-12-14\n",
              "26      2014-05-11\n",
              "27      2017-01-12\n",
              "28      2015-06-01\n",
              "29      2012-10-16\n",
              "           ...    \n",
              "53736   2015-01-19\n",
              "53737   2010-04-10\n",
              "53738   2015-06-14\n",
              "53739   2016-09-07\n",
              "53740   2014-05-19\n",
              "53741   2010-01-20\n",
              "53742   2011-08-02\n",
              "53743   2011-01-29\n",
              "53744   2014-03-12\n",
              "53745   2013-02-19\n",
              "53746   2016-03-28\n",
              "53747   2016-01-27\n",
              "53748   2009-04-20\n",
              "53749   2016-07-18\n",
              "53750   2015-05-02\n",
              "53751   2017-11-11\n",
              "53752   2017-04-13\n",
              "53753   2016-02-25\n",
              "53754   2015-08-15\n",
              "53755   2016-07-21\n",
              "53756   2015-11-15\n",
              "53757   2014-10-26\n",
              "53758   2014-09-30\n",
              "53759   2014-08-01\n",
              "53760   2010-08-25\n",
              "53761   2014-09-13\n",
              "53762   2016-10-08\n",
              "53763   2010-11-15\n",
              "53764   2011-11-28\n",
              "53765   2009-09-13\n",
              "Name: date, Length: 212053, dtype: datetime64[ns]>"
            ]
          },
          "metadata": {
            "tags": []
          },
          "execution_count": 38
        }
      ]
    },
    {
      "cell_type": "code",
      "metadata": {
        "id": "I0dQb0ulG7Mb",
        "colab_type": "code",
        "outputId": "1949a70a-c413-4a65-fb82-f05d28d3e056",
        "colab": {
          "base_uri": "https://localhost:8080/",
          "height": 1071
        }
      },
      "source": [
        "df['month'].unique"
      ],
      "execution_count": 0,
      "outputs": [
        {
          "output_type": "execute_result",
          "data": {
            "text/plain": [
              "<bound method Series.unique of 0         5\n",
              "1         4\n",
              "2        12\n",
              "3        11\n",
              "4        11\n",
              "5        11\n",
              "6         3\n",
              "7         3\n",
              "8         8\n",
              "9        12\n",
              "10        1\n",
              "11        3\n",
              "12        7\n",
              "13        9\n",
              "14        8\n",
              "15        1\n",
              "16        9\n",
              "17        3\n",
              "18       11\n",
              "19        9\n",
              "20        7\n",
              "21        4\n",
              "22        8\n",
              "23        9\n",
              "24        4\n",
              "25       12\n",
              "26        5\n",
              "27        1\n",
              "28        6\n",
              "29       10\n",
              "         ..\n",
              "53736     1\n",
              "53737     4\n",
              "53738     6\n",
              "53739     9\n",
              "53740     5\n",
              "53741     1\n",
              "53742     8\n",
              "53743     1\n",
              "53744     3\n",
              "53745     2\n",
              "53746     3\n",
              "53747     1\n",
              "53748     4\n",
              "53749     7\n",
              "53750     5\n",
              "53751    11\n",
              "53752     4\n",
              "53753     2\n",
              "53754     8\n",
              "53755     7\n",
              "53756    11\n",
              "53757    10\n",
              "53758     9\n",
              "53759     8\n",
              "53760     8\n",
              "53761     9\n",
              "53762    10\n",
              "53763    11\n",
              "53764    11\n",
              "53765     9\n",
              "Name: month, Length: 212053, dtype: int64>"
            ]
          },
          "metadata": {
            "tags": []
          },
          "execution_count": 39
        }
      ]
    },
    {
      "cell_type": "code",
      "metadata": {
        "id": "b_aW1RTZG7Me",
        "colab_type": "code",
        "outputId": "9aef071b-c771-4505-8cb5-cacbca8ba95d",
        "colab": {
          "base_uri": "https://localhost:8080/",
          "height": 531
        }
      },
      "source": [
        "# looking at the no. of reviews in each of the year\n",
        "\n",
        "import seaborn as sns\n",
        "plt.rcParams['figure.figsize'] = (19, 8)\n",
        "sns.countplot(df['Year'], palette ='dark')\n",
        "plt.title('The No. of Reviews in each year', fontsize = 30)\n",
        "plt.xlabel('Year', fontsize = 15)\n",
        "plt.ylabel('Count of Reviews', fontsize = 15)\n",
        "plt.show()"
      ],
      "execution_count": 0,
      "outputs": [
        {
          "output_type": "display_data",
          "data": {
            "image/png": "[encoded data removed]",
            "text/plain": [
              "<Figure size 1368x576 with 1 Axes>"
            ]
          },
          "metadata": {
            "tags": []
          }
        }
      ]
    },
    {
      "cell_type": "code",
      "metadata": {
        "id": "0OXwpIq8G7Mh",
        "colab_type": "code",
        "outputId": "2bf48087-1fd4-4fa2-c579-38595f9bcfc4",
        "colab": {
          "base_uri": "https://localhost:8080/",
          "height": 410
        }
      },
      "source": [
        "### No. of reviews month wise\n",
        "month = df['month'].value_counts()     \n",
        "month= month.sort_index()             \n",
        "month\n",
        "plt.figure(figsize=(14,6))\n",
        "sns.barplot( month.index,month.values,alpha=0.8, color='green')\n",
        "plt.xticks(rotation='vertical')\n",
        "plt.xlabel('months', fontsize=12)\n",
        "plt.ylabel('count', fontsize=12)\n",
        "plt.title(\"Months with highest review \")\n",
        "plt.show()"
      ],
      "execution_count": 0,
      "outputs": [
        {
          "output_type": "display_data",
          "data": {
            "image/png": "[encoded data removed]",
            "text/plain": [
              "<Figure size 1008x432 with 1 Axes>"
            ]
          },
          "metadata": {
            "tags": []
          }
        }
      ]
    },
    {
      "cell_type": "code",
      "metadata": {
        "id": "eOzsr34TG7Mk",
        "colab_type": "code",
        "outputId": "e9c4daa9-801e-4a80-8149-00b3aae28989",
        "colab": {
          "base_uri": "https://localhost:8080/",
          "height": 51
        }
      },
      "source": [
        "## To see review day wise\n",
        "import calendar\n",
        "#calendar.day_name[df['date'].weekday()]\n",
        "df['day_of_week'] = df['date'].dt.day_name()\n",
        "df['day_of_week'].unique()"
      ],
      "execution_count": 0,
      "outputs": [
        {
          "output_type": "execute_result",
          "data": {
            "text/plain": [
              "array(['Sunday', 'Tuesday', 'Monday', 'Saturday', 'Thursday', 'Friday',\n",
              "       'Wednesday'], dtype=object)"
            ]
          },
          "metadata": {
            "tags": []
          },
          "execution_count": 42
        }
      ]
    },
    {
      "cell_type": "code",
      "metadata": {
        "id": "D8eTvwGIG7Mn",
        "colab_type": "code",
        "outputId": "abee8768-70b8-48db-b4af-55210dde4ef1",
        "colab": {
          "base_uri": "https://localhost:8080/",
          "height": 456
        }
      },
      "source": [
        "day=df['day_of_week'].value_counts()\n",
        "year=day.sort_index()\n",
        "plt.figure(figsize=(14,6))\n",
        "sns.barplot(day.index,day.values,alpha=0.8, color='blue')\n",
        "plt.xticks(rotation='vertical')\n",
        "plt.xlabel('day', fontsize=12)\n",
        "plt.ylabel('', fontsize=12)\n",
        "plt.title(\"day with highest review \")\n",
        "plt.show()                 #on wednesday ppl review maximum  ....so do something that ppl come back on a wednesday and review more "
      ],
      "execution_count": 0,
      "outputs": [
        {
          "output_type": "display_data",
          "data": {
            "image/png": "[encoded data removed]",
            "text/plain": [
              "<Figure size 1008x432 with 1 Axes>"
            ]
          },
          "metadata": {
            "tags": []
          }
        }
      ]
    },
    {
      "cell_type": "code",
      "metadata": {
        "id": "sfMkszEaG7Mq",
        "colab_type": "code",
        "colab": {}
      },
      "source": [
        "### to see reviews season wise\n",
        "df['season'] = df[\"month\"].apply(lambda x: 1 if ((x>2) & (x<6)) else(2 if (x>5) & (x<9) else (3 if (x>8) & (x<12) else 4)))\n",
        "#1:spring\n",
        "#2:Summer\n",
        "#3:Fall\n",
        "#4:Winter"
      ],
      "execution_count": 0,
      "outputs": []
    },
    {
      "cell_type": "code",
      "metadata": {
        "id": "YW-d5SOoG7Ms",
        "colab_type": "code",
        "outputId": "9945ccf4-db3f-4dc6-9c7b-6d34993e68ff",
        "colab": {
          "base_uri": "https://localhost:8080/",
          "height": 403
        }
      },
      "source": [
        "season=df['season'].value_counts()\n",
        "season\n",
        "season=season.sort_index()\n",
        "season\n",
        "plt.figure(figsize=(14,6))\n",
        "sns.barplot(season.index,season.values,alpha=0.8, color='pink')\n",
        "plt.xticks(rotation='vertical')\n",
        "plt.xlabel('season', fontsize=12)\n",
        "plt.ylabel('', fontsize=12)\n",
        "plt.title(\"season with highest review \")\n",
        "plt.show() "
      ],
      "execution_count": 0,
      "outputs": [
        {
          "output_type": "display_data",
          "data": {
            "image/png": "[encoded data removed]",
            "text/plain": [
              "<Figure size 1008x432 with 1 Axes>"
            ]
          },
          "metadata": {
            "tags": []
          }
        }
      ]
    },
    {
      "cell_type": "code",
      "metadata": {
        "id": "ntQ4SXhCG7Mw",
        "colab_type": "code",
        "colab": {}
      },
      "source": [
        "# Now splitting the data into train and test for sentiment analysis\n",
        "from sklearn.model_selection import train_test_split\n",
        "df_train, df_test = train_test_split(df, test_size=0.33, random_state=42) "
      ],
      "execution_count": 0,
      "outputs": []
    },
    {
      "cell_type": "code",
      "metadata": {
        "id": "wf_sbCz0G7M1",
        "colab_type": "code",
        "outputId": "489f25d7-7ac8-4500-fc25-a9972c0e06ea",
        "colab": {
          "base_uri": "https://localhost:8080/",
          "height": 51
        }
      },
      "source": [
        "print(df_train.shape)\n",
        "print(df_test.shape)"
      ],
      "execution_count": 0,
      "outputs": [
        {
          "output_type": "stream",
          "text": [
            "(142075, 14)\n",
            "(69978, 14)\n"
          ],
          "name": "stdout"
        }
      ]
    },
    {
      "cell_type": "code",
      "metadata": {
        "id": "S4WxjMAwG7M6",
        "colab_type": "code",
        "outputId": "1a6fb2b6-e7f9-4cf8-b055-62037fb8c0d0",
        "colab": {
          "base_uri": "https://localhost:8080/",
          "height": 699
        }
      },
      "source": [
        "df_train.head(10)"
      ],
      "execution_count": 0,
      "outputs": [
        {
          "output_type": "execute_result",
          "data": {
            "text/html": [
              "<div>\n",
              "<style scoped>\n",
              "    .dataframe tbody tr th:only-of-type {\n",
              "        vertical-align: middle;\n",
              "    }\n",
              "\n",
              "    .dataframe tbody tr th {\n",
              "        vertical-align: top;\n",
              "    }\n",
              "\n",
              "    .dataframe thead th {\n",
              "        text-align: right;\n",
              "    }\n",
              "</style>\n",
              "<table border=\"1\" class=\"dataframe\">\n",
              "  <thead>\n",
              "    <tr style=\"text-align: right;\">\n",
              "      <th></th>\n",
              "      <th>uniqueID</th>\n",
              "      <th>drugName</th>\n",
              "      <th>condition</th>\n",
              "      <th>review</th>\n",
              "      <th>rating</th>\n",
              "      <th>date</th>\n",
              "      <th>usefulCount</th>\n",
              "      <th>review_clean</th>\n",
              "      <th>sentiment</th>\n",
              "      <th>Year</th>\n",
              "      <th>month</th>\n",
              "      <th>day</th>\n",
              "      <th>day_of_week</th>\n",
              "      <th>season</th>\n",
              "    </tr>\n",
              "  </thead>\n",
              "  <tbody>\n",
              "    <tr>\n",
              "      <th>132074</th>\n",
              "      <td>66913</td>\n",
              "      <td>Seroquel</td>\n",
              "      <td>Generalized Anxiety Disorde</td>\n",
              "      <td>\"After trying nearly every SSRI on the market ...</td>\n",
              "      <td>9</td>\n",
              "      <td>2010-11-26</td>\n",
              "      <td>102</td>\n",
              "      <td>tri near everi ssri market place pristiq impro...</td>\n",
              "      <td>1</td>\n",
              "      <td>2010</td>\n",
              "      <td>11</td>\n",
              "      <td>26</td>\n",
              "      <td>Friday</td>\n",
              "      <td>3</td>\n",
              "    </tr>\n",
              "    <tr>\n",
              "      <th>157748</th>\n",
              "      <td>222222</td>\n",
              "      <td>Fluconazole</td>\n",
              "      <td>Onychomycosis, Toenail</td>\n",
              "      <td>\"This takes 6+ months, but did clear up a deca...</td>\n",
              "      <td>9</td>\n",
              "      <td>2008-05-03</td>\n",
              "      <td>39</td>\n",
              "      <td>take month clear decad long infect</td>\n",
              "      <td>1</td>\n",
              "      <td>2008</td>\n",
              "      <td>5</td>\n",
              "      <td>3</td>\n",
              "      <td>Saturday</td>\n",
              "      <td>1</td>\n",
              "    </tr>\n",
              "    <tr>\n",
              "      <th>76458</th>\n",
              "      <td>75807</td>\n",
              "      <td>Temazepam</td>\n",
              "      <td>Insomnia</td>\n",
              "      <td>\"Worked for awhile pretty well but then went b...</td>\n",
              "      <td>2</td>\n",
              "      <td>2016-04-21</td>\n",
              "      <td>15</td>\n",
              "      <td>work awhil pretti well went back mayb get hour...</td>\n",
              "      <td>0</td>\n",
              "      <td>2016</td>\n",
              "      <td>4</td>\n",
              "      <td>21</td>\n",
              "      <td>Thursday</td>\n",
              "      <td>1</td>\n",
              "    </tr>\n",
              "    <tr>\n",
              "      <th>19474</th>\n",
              "      <td>229747</td>\n",
              "      <td>Ketamine</td>\n",
              "      <td>Pain</td>\n",
              "      <td>\"I was given this after surgery for pain as I ...</td>\n",
              "      <td>1</td>\n",
              "      <td>2016-04-16</td>\n",
              "      <td>19</td>\n",
              "      <td>given surgeri pain morphin tri drug sort omg w...</td>\n",
              "      <td>0</td>\n",
              "      <td>2016</td>\n",
              "      <td>4</td>\n",
              "      <td>16</td>\n",
              "      <td>Saturday</td>\n",
              "      <td>1</td>\n",
              "    </tr>\n",
              "    <tr>\n",
              "      <th>51423</th>\n",
              "      <td>102495</td>\n",
              "      <td>Aripiprazole</td>\n",
              "      <td>Major Depressive Disorde</td>\n",
              "      <td>\"Abilify served me well over a two month perio...</td>\n",
              "      <td>9</td>\n",
              "      <td>2016-12-16</td>\n",
              "      <td>5</td>\n",
              "      <td>abilifi serv well two month period antidepress...</td>\n",
              "      <td>1</td>\n",
              "      <td>2016</td>\n",
              "      <td>12</td>\n",
              "      <td>16</td>\n",
              "      <td>Friday</td>\n",
              "      <td>4</td>\n",
              "    </tr>\n",
              "    <tr>\n",
              "      <th>41290</th>\n",
              "      <td>94607</td>\n",
              "      <td>Abilify</td>\n",
              "      <td>Autism</td>\n",
              "      <td>\"Autistic Savant. High functioning. 5mg Abilif...</td>\n",
              "      <td>10</td>\n",
              "      <td>2015-10-15</td>\n",
              "      <td>61</td>\n",
              "      <td>autist savant high function mg abilifi everi m...</td>\n",
              "      <td>1</td>\n",
              "      <td>2015</td>\n",
              "      <td>10</td>\n",
              "      <td>15</td>\n",
              "      <td>Thursday</td>\n",
              "      <td>3</td>\n",
              "    </tr>\n",
              "    <tr>\n",
              "      <th>102062</th>\n",
              "      <td>151485</td>\n",
              "      <td>Chantix</td>\n",
              "      <td>Smoking Cessation</td>\n",
              "      <td>\"This medicine mucked my mind up:. I took it f...</td>\n",
              "      <td>1</td>\n",
              "      <td>2016-01-28</td>\n",
              "      <td>10</td>\n",
              "      <td>medicin muck mind took five year ago two month...</td>\n",
              "      <td>0</td>\n",
              "      <td>2016</td>\n",
              "      <td>1</td>\n",
              "      <td>28</td>\n",
              "      <td>Thursday</td>\n",
              "      <td>4</td>\n",
              "    </tr>\n",
              "    <tr>\n",
              "      <th>9225</th>\n",
              "      <td>230617</td>\n",
              "      <td>Depo-Provera</td>\n",
              "      <td>Endometriosis</td>\n",
              "      <td>\"I have been on this for the better part of th...</td>\n",
              "      <td>9</td>\n",
              "      <td>2010-04-01</td>\n",
              "      <td>8</td>\n",
              "      <td>better part last year love conveni deal time p...</td>\n",
              "      <td>1</td>\n",
              "      <td>2010</td>\n",
              "      <td>4</td>\n",
              "      <td>1</td>\n",
              "      <td>Thursday</td>\n",
              "      <td>1</td>\n",
              "    </tr>\n",
              "    <tr>\n",
              "      <th>161177</th>\n",
              "      <td>135134</td>\n",
              "      <td>Dapsone</td>\n",
              "      <td>Acne</td>\n",
              "      <td>\"Black female with cystic acne and dark spots ...</td>\n",
              "      <td>10</td>\n",
              "      <td>2011-12-02</td>\n",
              "      <td>76</td>\n",
              "      <td>black femal cystic acn dark spot cheek chin ha...</td>\n",
              "      <td>1</td>\n",
              "      <td>2011</td>\n",
              "      <td>12</td>\n",
              "      <td>2</td>\n",
              "      <td>Friday</td>\n",
              "      <td>4</td>\n",
              "    </tr>\n",
              "    <tr>\n",
              "      <th>3218</th>\n",
              "      <td>123353</td>\n",
              "      <td>Apri</td>\n",
              "      <td>Birth Control</td>\n",
              "      <td>\"Before I start my period, I get cramps, acne ...</td>\n",
              "      <td>7</td>\n",
              "      <td>2013-01-22</td>\n",
              "      <td>0</td>\n",
              "      <td>start period get cramp acn moodi pill sex driv...</td>\n",
              "      <td>1</td>\n",
              "      <td>2013</td>\n",
              "      <td>1</td>\n",
              "      <td>22</td>\n",
              "      <td>Tuesday</td>\n",
              "      <td>4</td>\n",
              "    </tr>\n",
              "  </tbody>\n",
              "</table>\n",
              "</div>"
            ],
            "text/plain": [
              "        uniqueID      drugName  ... day_of_week season\n",
              "132074     66913      Seroquel  ...      Friday      3\n",
              "157748    222222   Fluconazole  ...    Saturday      1\n",
              "76458      75807     Temazepam  ...    Thursday      1\n",
              "19474     229747      Ketamine  ...    Saturday      1\n",
              "51423     102495  Aripiprazole  ...      Friday      4\n",
              "41290      94607       Abilify  ...    Thursday      3\n",
              "102062    151485       Chantix  ...    Thursday      4\n",
              "9225      230617  Depo-Provera  ...    Thursday      1\n",
              "161177    135134       Dapsone  ...      Friday      4\n",
              "3218      123353          Apri  ...     Tuesday      4\n",
              "\n",
              "[10 rows x 14 columns]"
            ]
          },
          "metadata": {
            "tags": []
          },
          "execution_count": 49
        }
      ]
    },
    {
      "cell_type": "code",
      "metadata": {
        "id": "b3XIpE05G7NA",
        "colab_type": "code",
        "outputId": "42e87b01-dcdb-4172-fecc-77ddac4a2897",
        "colab": {
          "base_uri": "https://localhost:8080/",
          "height": 750
        }
      },
      "source": [
        "df_test.head(10)"
      ],
      "execution_count": 0,
      "outputs": [
        {
          "output_type": "execute_result",
          "data": {
            "text/html": [
              "<div>\n",
              "<style scoped>\n",
              "    .dataframe tbody tr th:only-of-type {\n",
              "        vertical-align: middle;\n",
              "    }\n",
              "\n",
              "    .dataframe tbody tr th {\n",
              "        vertical-align: top;\n",
              "    }\n",
              "\n",
              "    .dataframe thead th {\n",
              "        text-align: right;\n",
              "    }\n",
              "</style>\n",
              "<table border=\"1\" class=\"dataframe\">\n",
              "  <thead>\n",
              "    <tr style=\"text-align: right;\">\n",
              "      <th></th>\n",
              "      <th>uniqueID</th>\n",
              "      <th>drugName</th>\n",
              "      <th>condition</th>\n",
              "      <th>review</th>\n",
              "      <th>rating</th>\n",
              "      <th>date</th>\n",
              "      <th>usefulCount</th>\n",
              "      <th>review_clean</th>\n",
              "      <th>sentiment</th>\n",
              "      <th>Year</th>\n",
              "      <th>month</th>\n",
              "      <th>day</th>\n",
              "      <th>day_of_week</th>\n",
              "      <th>season</th>\n",
              "    </tr>\n",
              "  </thead>\n",
              "  <tbody>\n",
              "    <tr>\n",
              "      <th>149492</th>\n",
              "      <td>126702</td>\n",
              "      <td>Brimonidine</td>\n",
              "      <td>Rosacea</td>\n",
              "      <td>\"Never , never , never use this cream !!!!!! I...</td>\n",
              "      <td>1</td>\n",
              "      <td>2015-08-31</td>\n",
              "      <td>17</td>\n",
              "      <td>never never never use cream help way angri dis...</td>\n",
              "      <td>0</td>\n",
              "      <td>2015</td>\n",
              "      <td>8</td>\n",
              "      <td>31</td>\n",
              "      <td>Monday</td>\n",
              "      <td>2</td>\n",
              "    </tr>\n",
              "    <tr>\n",
              "      <th>36737</th>\n",
              "      <td>84765</td>\n",
              "      <td>Ethinyl estradiol / norgestimate</td>\n",
              "      <td>Birth Control</td>\n",
              "      <td>\"I was switched to this after about 9 months o...</td>\n",
              "      <td>10</td>\n",
              "      <td>2016-05-01</td>\n",
              "      <td>3</td>\n",
              "      <td>switch month mononessa ask switch happen anywa...</td>\n",
              "      <td>1</td>\n",
              "      <td>2016</td>\n",
              "      <td>5</td>\n",
              "      <td>1</td>\n",
              "      <td>Sunday</td>\n",
              "      <td>1</td>\n",
              "    </tr>\n",
              "    <tr>\n",
              "      <th>87556</th>\n",
              "      <td>71559</td>\n",
              "      <td>Vraylar</td>\n",
              "      <td>Bipolar Disorde</td>\n",
              "      <td>\"I began at 1.5 then titrated to 3mg dosage. A...</td>\n",
              "      <td>3</td>\n",
              "      <td>2016-08-17</td>\n",
              "      <td>17</td>\n",
              "      <td>began titrat mg dosag first love medicin compl...</td>\n",
              "      <td>0</td>\n",
              "      <td>2016</td>\n",
              "      <td>8</td>\n",
              "      <td>17</td>\n",
              "      <td>Wednesday</td>\n",
              "      <td>2</td>\n",
              "    </tr>\n",
              "    <tr>\n",
              "      <th>44851</th>\n",
              "      <td>132320</td>\n",
              "      <td>Ativan</td>\n",
              "      <td>Anxiety</td>\n",
              "      <td>\"Ativan 0.5mg calms me down considerably withi...</td>\n",
              "      <td>5</td>\n",
              "      <td>2012-01-12</td>\n",
              "      <td>26</td>\n",
              "      <td>ativan mg calm consider within minut side effe...</td>\n",
              "      <td>0</td>\n",
              "      <td>2012</td>\n",
              "      <td>1</td>\n",
              "      <td>12</td>\n",
              "      <td>Thursday</td>\n",
              "      <td>4</td>\n",
              "    </tr>\n",
              "    <tr>\n",
              "      <th>91917</th>\n",
              "      <td>177278</td>\n",
              "      <td>Duloxetine</td>\n",
              "      <td>Generalized Anxiety Disorde</td>\n",
              "      <td>\"My thoughts on Cymbalta: Cymbalta has left me...</td>\n",
              "      <td>1</td>\n",
              "      <td>2017-05-03</td>\n",
              "      <td>29</td>\n",
              "      <td>thought cymbalta cymbalta left fog no feel non...</td>\n",
              "      <td>0</td>\n",
              "      <td>2017</td>\n",
              "      <td>5</td>\n",
              "      <td>3</td>\n",
              "      <td>Wednesday</td>\n",
              "      <td>1</td>\n",
              "    </tr>\n",
              "    <tr>\n",
              "      <th>83949</th>\n",
              "      <td>16570</td>\n",
              "      <td>Ethinyl estradiol / norethindrone</td>\n",
              "      <td>Abnormal Uterine Bleeding</td>\n",
              "      <td>\"Everything was all good until the 5 month I&amp;#...</td>\n",
              "      <td>1</td>\n",
              "      <td>2015-12-01</td>\n",
              "      <td>2</td>\n",
              "      <td>everyth good month bleed month spot most break...</td>\n",
              "      <td>0</td>\n",
              "      <td>2015</td>\n",
              "      <td>12</td>\n",
              "      <td>1</td>\n",
              "      <td>Tuesday</td>\n",
              "      <td>4</td>\n",
              "    </tr>\n",
              "    <tr>\n",
              "      <th>137760</th>\n",
              "      <td>97016</td>\n",
              "      <td>Ambien</td>\n",
              "      <td>Insomnia</td>\n",
              "      <td>\"I have used this medicine off and on for 7 ye...</td>\n",
              "      <td>9</td>\n",
              "      <td>2014-12-08</td>\n",
              "      <td>126</td>\n",
              "      <td>use medicin year issu thing rememb need sure t...</td>\n",
              "      <td>1</td>\n",
              "      <td>2014</td>\n",
              "      <td>12</td>\n",
              "      <td>8</td>\n",
              "      <td>Monday</td>\n",
              "      <td>4</td>\n",
              "    </tr>\n",
              "    <tr>\n",
              "      <th>125048</th>\n",
              "      <td>171319</td>\n",
              "      <td>Wellbutrin</td>\n",
              "      <td>Depression</td>\n",
              "      <td>\"This drug has saved my life!  I have struggle...</td>\n",
              "      <td>9</td>\n",
              "      <td>2017-07-01</td>\n",
              "      <td>60</td>\n",
              "      <td>drug save life struggl methamphetamin addict y...</td>\n",
              "      <td>1</td>\n",
              "      <td>2017</td>\n",
              "      <td>7</td>\n",
              "      <td>1</td>\n",
              "      <td>Saturday</td>\n",
              "      <td>2</td>\n",
              "    </tr>\n",
              "    <tr>\n",
              "      <th>121554</th>\n",
              "      <td>30173</td>\n",
              "      <td>Klonopin</td>\n",
              "      <td>Bipolar Disorde</td>\n",
              "      <td>\"I have been taking Wellbutrin SR for about 4 ...</td>\n",
              "      <td>9</td>\n",
              "      <td>2015-05-18</td>\n",
              "      <td>32</td>\n",
              "      <td>take wellbutrin sr yrs combo differ med think ...</td>\n",
              "      <td>1</td>\n",
              "      <td>2015</td>\n",
              "      <td>5</td>\n",
              "      <td>18</td>\n",
              "      <td>Monday</td>\n",
              "      <td>1</td>\n",
              "    </tr>\n",
              "    <tr>\n",
              "      <th>6925</th>\n",
              "      <td>37206</td>\n",
              "      <td>Vyvanse</td>\n",
              "      <td>ADHD</td>\n",
              "      <td>\"I&amp;#039;ve been on vyvanse for about 2 days no...</td>\n",
              "      <td>9</td>\n",
              "      <td>2017-04-11</td>\n",
              "      <td>13</td>\n",
              "      <td>vyvans day believ differ two medic tri adderal...</td>\n",
              "      <td>1</td>\n",
              "      <td>2017</td>\n",
              "      <td>4</td>\n",
              "      <td>11</td>\n",
              "      <td>Tuesday</td>\n",
              "      <td>1</td>\n",
              "    </tr>\n",
              "  </tbody>\n",
              "</table>\n",
              "</div>"
            ],
            "text/plain": [
              "        uniqueID                           drugName  ... day_of_week season\n",
              "149492    126702                        Brimonidine  ...      Monday      2\n",
              "36737      84765   Ethinyl estradiol / norgestimate  ...      Sunday      1\n",
              "87556      71559                            Vraylar  ...   Wednesday      2\n",
              "44851     132320                             Ativan  ...    Thursday      4\n",
              "91917     177278                         Duloxetine  ...   Wednesday      1\n",
              "83949      16570  Ethinyl estradiol / norethindrone  ...     Tuesday      4\n",
              "137760     97016                             Ambien  ...      Monday      4\n",
              "125048    171319                         Wellbutrin  ...    Saturday      2\n",
              "121554     30173                           Klonopin  ...      Monday      1\n",
              "6925       37206                            Vyvanse  ...     Tuesday      1\n",
              "\n",
              "[10 rows x 14 columns]"
            ]
          },
          "metadata": {
            "tags": []
          },
          "execution_count": 50
        }
      ]
    },
    {
      "cell_type": "code",
      "metadata": {
        "id": "WDZkmzQrG7NG",
        "colab_type": "code",
        "outputId": "f0f54f98-9a56-415e-a02a-8c13680adb4b",
        "colab": {
          "base_uri": "https://localhost:8080/",
          "height": 119
        }
      },
      "source": [
        "### creating a bag of words\n",
        "from sklearn.feature_extraction.text import CountVectorizer\n",
        "from sklearn.pipeline import Pipeline\n",
        "## The purpose of the pipeline is to assemble several steps that can be cross-validated together while setting different parameters.\n",
        "## n gram is used to capture the emotions of the user\n",
        "vectorizer = CountVectorizer(analyzer = 'word', \n",
        "                             tokenizer = None,\n",
        "                             preprocessor = None, \n",
        "                             stop_words = None, \n",
        "                             min_df = 2, \n",
        "                             ngram_range=(4, 4),\n",
        "                             max_features = 20000\n",
        "                            )\n",
        "vectorizer"
      ],
      "execution_count": 0,
      "outputs": [
        {
          "output_type": "execute_result",
          "data": {
            "text/plain": [
              "CountVectorizer(analyzer='word', binary=False, decode_error='strict',\n",
              "        dtype=<class 'numpy.int64'>, encoding='utf-8', input='content',\n",
              "        lowercase=True, max_df=1.0, max_features=20000, min_df=2,\n",
              "        ngram_range=(4, 4), preprocessor=None, stop_words=None,\n",
              "        strip_accents=None, token_pattern='(?u)\\\\b\\\\w\\\\w+\\\\b',\n",
              "        tokenizer=None, vocabulary=None)"
            ]
          },
          "metadata": {
            "tags": []
          },
          "execution_count": 51
        }
      ]
    },
    {
      "cell_type": "code",
      "metadata": {
        "id": "i7pCqumKG7NN",
        "colab_type": "code",
        "outputId": "67e9a9ed-b720-484e-d708-2f99593fdb61",
        "colab": {
          "base_uri": "https://localhost:8080/",
          "height": 136
        }
      },
      "source": [
        "pipeline = Pipeline([\n",
        "    ('vect', vectorizer),])\n",
        "pipeline"
      ],
      "execution_count": 0,
      "outputs": [
        {
          "output_type": "execute_result",
          "data": {
            "text/plain": [
              "Pipeline(memory=None,\n",
              "     steps=[('vect', CountVectorizer(analyzer='word', binary=False, decode_error='strict',\n",
              "        dtype=<class 'numpy.int64'>, encoding='utf-8', input='content',\n",
              "        lowercase=True, max_df=1.0, max_features=20000, min_df=2,\n",
              "        ngram_range=(4, 4), preprocessor=None, stop_words=None,\n",
              "        strip_accents=None, token_pattern='(?u)\\\\b\\\\w\\\\w+\\\\b',\n",
              "        tokenizer=None, vocabulary=None))])"
            ]
          },
          "metadata": {
            "tags": []
          },
          "execution_count": 52
        }
      ]
    },
    {
      "cell_type": "code",
      "metadata": {
        "id": "9fq2WkP3G7NQ",
        "colab_type": "code",
        "outputId": "25feccd6-51b6-4d2a-b5c5-4c524165dfef",
        "colab": {
          "base_uri": "https://localhost:8080/",
          "height": 374
        }
      },
      "source": [
        "df.head(5)"
      ],
      "execution_count": 0,
      "outputs": [
        {
          "output_type": "execute_result",
          "data": {
            "text/html": [
              "<div>\n",
              "<style scoped>\n",
              "    .dataframe tbody tr th:only-of-type {\n",
              "        vertical-align: middle;\n",
              "    }\n",
              "\n",
              "    .dataframe tbody tr th {\n",
              "        vertical-align: top;\n",
              "    }\n",
              "\n",
              "    .dataframe thead th {\n",
              "        text-align: right;\n",
              "    }\n",
              "</style>\n",
              "<table border=\"1\" class=\"dataframe\">\n",
              "  <thead>\n",
              "    <tr style=\"text-align: right;\">\n",
              "      <th></th>\n",
              "      <th>uniqueID</th>\n",
              "      <th>drugName</th>\n",
              "      <th>condition</th>\n",
              "      <th>review</th>\n",
              "      <th>rating</th>\n",
              "      <th>date</th>\n",
              "      <th>usefulCount</th>\n",
              "      <th>review_clean</th>\n",
              "      <th>sentiment</th>\n",
              "      <th>Year</th>\n",
              "      <th>month</th>\n",
              "      <th>day</th>\n",
              "      <th>day_of_week</th>\n",
              "      <th>season</th>\n",
              "    </tr>\n",
              "  </thead>\n",
              "  <tbody>\n",
              "    <tr>\n",
              "      <th>0</th>\n",
              "      <td>206461</td>\n",
              "      <td>Valsartan</td>\n",
              "      <td>Left Ventricular Dysfunction</td>\n",
              "      <td>\"It has no side effect, I take it in combinati...</td>\n",
              "      <td>9</td>\n",
              "      <td>2012-05-20</td>\n",
              "      <td>27</td>\n",
              "      <td>no side effect take combin bystol mg fish oil</td>\n",
              "      <td>1</td>\n",
              "      <td>2012</td>\n",
              "      <td>5</td>\n",
              "      <td>20</td>\n",
              "      <td>Sunday</td>\n",
              "      <td>1</td>\n",
              "    </tr>\n",
              "    <tr>\n",
              "      <th>1</th>\n",
              "      <td>95260</td>\n",
              "      <td>Guanfacine</td>\n",
              "      <td>ADHD</td>\n",
              "      <td>\"My son is halfway through his fourth week of ...</td>\n",
              "      <td>8</td>\n",
              "      <td>2010-04-27</td>\n",
              "      <td>192</td>\n",
              "      <td>son halfway fourth week intuniv becam concern ...</td>\n",
              "      <td>1</td>\n",
              "      <td>2010</td>\n",
              "      <td>4</td>\n",
              "      <td>27</td>\n",
              "      <td>Tuesday</td>\n",
              "      <td>1</td>\n",
              "    </tr>\n",
              "    <tr>\n",
              "      <th>2</th>\n",
              "      <td>92703</td>\n",
              "      <td>Lybrel</td>\n",
              "      <td>Birth Control</td>\n",
              "      <td>\"I used to take another oral contraceptive, wh...</td>\n",
              "      <td>5</td>\n",
              "      <td>2009-12-14</td>\n",
              "      <td>17</td>\n",
              "      <td>use take anoth oral contracept pill cycl happi...</td>\n",
              "      <td>0</td>\n",
              "      <td>2009</td>\n",
              "      <td>12</td>\n",
              "      <td>14</td>\n",
              "      <td>Monday</td>\n",
              "      <td>4</td>\n",
              "    </tr>\n",
              "    <tr>\n",
              "      <th>3</th>\n",
              "      <td>138000</td>\n",
              "      <td>Ortho Evra</td>\n",
              "      <td>Birth Control</td>\n",
              "      <td>\"This is my first time using any form of birth...</td>\n",
              "      <td>8</td>\n",
              "      <td>2015-11-03</td>\n",
              "      <td>10</td>\n",
              "      <td>first time use form birth control glad went pa...</td>\n",
              "      <td>1</td>\n",
              "      <td>2015</td>\n",
              "      <td>11</td>\n",
              "      <td>3</td>\n",
              "      <td>Tuesday</td>\n",
              "      <td>3</td>\n",
              "    </tr>\n",
              "    <tr>\n",
              "      <th>4</th>\n",
              "      <td>35696</td>\n",
              "      <td>Buprenorphine / naloxone</td>\n",
              "      <td>Opiate Dependence</td>\n",
              "      <td>\"Suboxone has completely turned my life around...</td>\n",
              "      <td>9</td>\n",
              "      <td>2016-11-27</td>\n",
              "      <td>37</td>\n",
              "      <td>suboxon complet turn life around feel healthie...</td>\n",
              "      <td>1</td>\n",
              "      <td>2016</td>\n",
              "      <td>11</td>\n",
              "      <td>27</td>\n",
              "      <td>Sunday</td>\n",
              "      <td>3</td>\n",
              "    </tr>\n",
              "  </tbody>\n",
              "</table>\n",
              "</div>"
            ],
            "text/plain": [
              "   uniqueID                  drugName  ... day_of_week season\n",
              "0    206461                 Valsartan  ...      Sunday      1\n",
              "1     95260                Guanfacine  ...     Tuesday      1\n",
              "2     92703                    Lybrel  ...      Monday      4\n",
              "3    138000                Ortho Evra  ...     Tuesday      3\n",
              "4     35696  Buprenorphine / naloxone  ...      Sunday      3\n",
              "\n",
              "[5 rows x 14 columns]"
            ]
          },
          "metadata": {
            "tags": []
          },
          "execution_count": 53
        }
      ]
    },
    {
      "cell_type": "code",
      "metadata": {
        "id": "LX8hn6yTG7NU",
        "colab_type": "code",
        "colab": {}
      },
      "source": [
        "df_train_features = pipeline.fit_transform(df_train['review_clean'])\n",
        "df_test_features = pipeline.fit_transform(df_test['review_clean'])"
      ],
      "execution_count": 0,
      "outputs": []
    },
    {
      "cell_type": "code",
      "metadata": {
        "id": "HCGIfVbKG7NW",
        "colab_type": "code",
        "outputId": "61f7b516-936f-48e1-c68c-ace22ac1d905",
        "colab": {
          "base_uri": "https://localhost:8080/",
          "height": 51
        }
      },
      "source": [
        "print(df_train_features.shape)\n",
        "print(df_test_features.shape)"
      ],
      "execution_count": 0,
      "outputs": [
        {
          "output_type": "stream",
          "text": [
            "(142075, 20000)\n",
            "(69978, 20000)\n"
          ],
          "name": "stdout"
        }
      ]
    },
    {
      "cell_type": "code",
      "metadata": {
        "id": "NQgGF_zVG7NY",
        "colab_type": "code",
        "outputId": "eb06fef4-e90d-4ac7-9c6c-a28b970a8990",
        "colab": {
          "base_uri": "https://localhost:8080/",
          "height": 34
        }
      },
      "source": [
        "### Model building based on the sentiments\n",
        "from tensorflow.python.keras.models import Sequential\n",
        "from tensorflow.python.keras.layers import Dense, Bidirectional, LSTM, BatchNormalization, Dropout\n",
        "from tensorflow.python.keras.preprocessing.sequence import pad_sequences\n",
        "import numpy as np\n",
        "import keras\n",
        "from keras.models import Sequential\n",
        "from keras.layers import Dense\n",
        "import random"
      ],
      "execution_count": 0,
      "outputs": [
        {
          "output_type": "stream",
          "text": [
            "Using TensorFlow backend.\n"
          ],
          "name": "stderr"
        }
      ]
    },
    {
      "cell_type": "code",
      "metadata": {
        "id": "DxQnoQg-S3Df",
        "colab_type": "code",
        "outputId": "dd3314f3-68bf-48aa-b7ae-ccc05bb84f23",
        "colab": {
          "base_uri": "https://localhost:8080/",
          "height": 476
        }
      },
      "source": [
        "# 1. Dataset\n",
        "y_train = df_train['sentiment']\n",
        "y_test = df_test['sentiment']\n",
        "solution = y_test.copy()\n",
        "\n",
        "# 2. Model Structure\n",
        "model = keras.models.Sequential()\n",
        "\n",
        "model.add(keras.layers.Dense(200, input_shape=(20000,)))\n",
        "model.add(keras.layers.BatchNormalization())\n",
        "model.add(keras.layers.Activation('relu'))\n",
        "model.add(keras.layers.Dropout(0.5))\n",
        "\n",
        "model.add(keras.layers.Dense(300))\n",
        "model.add(keras.layers.BatchNormalization())\n",
        "model.add(keras.layers.Activation('relu'))\n",
        "model.add(keras.layers.Dropout(0.5))\n",
        "\n",
        "model.add(keras.layers.Dense(100, activation='relu'))\n",
        "model.add(keras.layers.Dense(1, activation='sigmoid'))\n",
        "\n",
        "# 3. Model compile\n",
        "model.compile(optimizer='adam', loss='binary_crossentropy', metrics=['accuracy'])\n",
        "model.summary()"
      ],
      "execution_count": 0,
      "outputs": [
        {
          "output_type": "stream",
          "text": [
            "_________________________________________________________________\n",
            "Layer (type)                 Output Shape              Param #   \n",
            "=================================================================\n",
            "dense_5 (Dense)              (None, 200)               4000200   \n",
            "_________________________________________________________________\n",
            "batch_normalization_3 (Batch (None, 200)               800       \n",
            "_________________________________________________________________\n",
            "activation_3 (Activation)    (None, 200)               0         \n",
            "_________________________________________________________________\n",
            "dropout_3 (Dropout)          (None, 200)               0         \n",
            "_________________________________________________________________\n",
            "dense_6 (Dense)              (None, 300)               60300     \n",
            "_________________________________________________________________\n",
            "batch_normalization_4 (Batch (None, 300)               1200      \n",
            "_________________________________________________________________\n",
            "activation_4 (Activation)    (None, 300)               0         \n",
            "_________________________________________________________________\n",
            "dropout_4 (Dropout)          (None, 300)               0         \n",
            "_________________________________________________________________\n",
            "dense_7 (Dense)              (None, 100)               30100     \n",
            "_________________________________________________________________\n",
            "dense_8 (Dense)              (None, 1)                 101       \n",
            "=================================================================\n",
            "Total params: 4,092,701\n",
            "Trainable params: 4,091,701\n",
            "Non-trainable params: 1,000\n",
            "_________________________________________________________________\n"
          ],
          "name": "stdout"
        }
      ]
    },
    {
      "cell_type": "code",
      "metadata": {
        "id": "kZXKPEu_U3Vg",
        "colab_type": "code",
        "outputId": "deeea14a-96b3-43ca-c060-894eac94ffcb",
        "colab": {
          "base_uri": "https://localhost:8080/",
          "height": 657
        }
      },
      "source": [
        "# 4. Train model\n",
        "hist = model.fit(df_train_features, y_train, epochs=10, batch_size=64)\n",
        "\n",
        "# 5. Training process\n",
        "%matplotlib inline\n",
        "import matplotlib.pyplot as plt\n",
        "\n",
        "fig, loss_ax = plt.subplots()\n",
        "\n",
        "acc_ax = loss_ax.twinx()\n",
        "\n",
        "loss_ax.set_ylim([0.0, 1.0])\n",
        "acc_ax.set_ylim([0.0, 1.0])\n",
        "\n",
        "loss_ax.plot(hist.history['loss'], 'y', label='train loss')\n",
        "acc_ax.plot(hist.history['acc'], 'b', label='train acc')\n",
        "\n",
        "loss_ax.set_xlabel('epoch')\n",
        "loss_ax.set_ylabel('loss')\n",
        "acc_ax.set_ylabel('accuray')\n",
        "\n",
        "loss_ax.legend(loc='upper left')\n",
        "acc_ax.legend(loc='lower left')\n",
        "\n",
        "plt.show()\n",
        "\n",
        "# 6. Evaluation\n",
        "loss_and_metrics = model.evaluate(df_test_features, y_test, batch_size=32)\n",
        "print('loss_and_metrics : ' + str(loss_and_metrics))\n"
      ],
      "execution_count": 0,
      "outputs": [
        {
          "output_type": "stream",
          "text": [
            "Epoch 1/10\n",
            "142075/142075 [==============================] - 206s 1ms/step - loss: 0.3884 - acc: 0.8080\n",
            "Epoch 2/10\n",
            "142075/142075 [==============================] - 207s 1ms/step - loss: 0.3859 - acc: 0.8092\n",
            "Epoch 3/10\n",
            "142075/142075 [==============================] - 208s 1ms/step - loss: 0.3849 - acc: 0.8098\n",
            "Epoch 4/10\n",
            "142075/142075 [==============================] - 205s 1ms/step - loss: 0.3843 - acc: 0.8097\n",
            "Epoch 5/10\n",
            "142075/142075 [==============================] - 205s 1ms/step - loss: 0.3821 - acc: 0.8111\n",
            "Epoch 6/10\n",
            "142075/142075 [==============================] - 207s 1ms/step - loss: 0.3813 - acc: 0.8109\n",
            "Epoch 7/10\n",
            "142075/142075 [==============================] - 208s 1ms/step - loss: 0.3818 - acc: 0.8112\n",
            "Epoch 8/10\n",
            "142075/142075 [==============================] - 209s 1ms/step - loss: 0.3797 - acc: 0.8118\n",
            "Epoch 9/10\n",
            "142075/142075 [==============================] - 209s 1ms/step - loss: 0.3777 - acc: 0.8128\n",
            "Epoch 10/10\n",
            "142075/142075 [==============================] - 205s 1ms/step - loss: 0.3779 - acc: 0.8122\n"
          ],
          "name": "stdout"
        },
        {
          "output_type": "display_data",
          "data": {
            "image/png": "[encoded data removed]",
            "text/plain": [
              "<Figure size 432x288 with 2 Axes>"
            ]
          },
          "metadata": {
            "tags": []
          }
        },
        {
          "output_type": "stream",
          "text": [
            "69978/69978 [==============================] - 28s 406us/step\n",
            "loss_and_metrics : [1.1755285183575035, 0.6388722169790731]\n"
          ],
          "name": "stdout"
        }
      ]
    },
    {
      "cell_type": "code",
      "metadata": {
        "id": "lEGHSTukegQ3",
        "colab_type": "code",
        "outputId": "18383de2-976c-467a-dcf0-d650a7c20543",
        "colab": {
          "base_uri": "https://localhost:8080/",
          "height": 136
        }
      },
      "source": [
        "sub_preds_deep = model.predict(df_test_features,batch_size=32)\n",
        "sub_preds_deep"
      ],
      "execution_count": 0,
      "outputs": [
        {
          "output_type": "execute_result",
          "data": {
            "text/plain": [
              "array([[0.29566485],\n",
              "       [0.691137  ],\n",
              "       [0.6819496 ],\n",
              "       ...,\n",
              "       [0.1079165 ],\n",
              "       [0.01320081],\n",
              "       [0.6819496 ]], dtype=float32)"
            ]
          },
          "metadata": {
            "tags": []
          },
          "execution_count": 64
        }
      ]
    },
    {
      "cell_type": "code",
      "metadata": {
        "id": "Ga1VIHduqH4a",
        "colab_type": "code",
        "outputId": "f47e5f09-3d54-4503-cc95-1d5882efb303",
        "colab": {
          "resources": {
            "http://localhost:8080/nbextensions/google.colab/files.js": {
              "data": "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",
              "ok": true,
              "headers": [
                [
                  "content-type",
                  "application/javascript"
                ]
              ],
              "status": 200,
              "status_text": ""
            }
          },
          "base_uri": "https://localhost:8080/",
          "height": 74
        }
      },
      "source": [
        "from google.colab import files\n",
        "uploaded = files.upload()"
      ],
      "execution_count": 0,
      "outputs": [
        {
          "output_type": "display_data",
          "data": {
            "text/html": [
              "\n",
              "     <input type=\"file\" id=\"files-ebbdc2f1-e858-49d1-88d5-8e6be78093a9\" name=\"files[]\" multiple disabled />\n",
              "     <output id=\"result-ebbdc2f1-e858-49d1-88d5-8e6be78093a9\">\n",
              "      Upload widget is only available when the cell has been executed in the\n",
              "      current browser session. Please rerun this cell to enable.\n",
              "      </output>\n",
              "      <script src=\"/nbextensions/google.colab/files.js\"></script> "
            ],
            "text/plain": [
              "<IPython.core.display.HTML object>"
            ]
          },
          "metadata": {
            "tags": []
          }
        },
        {
          "output_type": "stream",
          "text": [
            "Saving inquirerbasic.csv to inquirerbasic.csv\n"
          ],
          "name": "stdout"
        }
      ]
    },
    {
      "cell_type": "code",
      "metadata": {
        "id": "nZWl2Uc6oDUD",
        "colab_type": "code",
        "outputId": "c94becc4-cee1-4230-a78c-b3b189bf17f9",
        "colab": {
          "base_uri": "https://localhost:8080/",
          "height": 359
        }
      },
      "source": [
        "# Dictionary_Sentiment_Analysis\n",
        "# Because the package used for prediction of 'Predict value' is formed with movie review data, it can be unsuitable for this project which analyzes reviews\n",
        "# for drugs. To make up for this, we conducted additional emotional analysis using the Harvard emotional dictionary.\n",
        "\n",
        "# import dictionary data\n",
        "word_table = pd.read_csv(\"inquirerbasic.csv\")\n",
        "\n",
        "# checking the head of the dictionary\n",
        "word_table.head(10)"
      ],
      "execution_count": 0,
      "outputs": [
        {
          "output_type": "execute_result",
          "data": {
            "text/html": [
              "<div>\n",
              "<style scoped>\n",
              "    .dataframe tbody tr th:only-of-type {\n",
              "        vertical-align: middle;\n",
              "    }\n",
              "\n",
              "    .dataframe tbody tr th {\n",
              "        vertical-align: top;\n",
              "    }\n",
              "\n",
              "    .dataframe thead th {\n",
              "        text-align: right;\n",
              "    }\n",
              "</style>\n",
              "<table border=\"1\" class=\"dataframe\">\n",
              "  <thead>\n",
              "    <tr style=\"text-align: right;\">\n",
              "      <th></th>\n",
              "      <th>Entry</th>\n",
              "      <th>Source</th>\n",
              "      <th>Positiv</th>\n",
              "      <th>Negativ</th>\n",
              "    </tr>\n",
              "  </thead>\n",
              "  <tbody>\n",
              "    <tr>\n",
              "      <th>0</th>\n",
              "      <td>A</td>\n",
              "      <td>H4Lvd</td>\n",
              "      <td>NaN</td>\n",
              "      <td>NaN</td>\n",
              "    </tr>\n",
              "    <tr>\n",
              "      <th>1</th>\n",
              "      <td>ABANDON</td>\n",
              "      <td>H4Lvd</td>\n",
              "      <td>NaN</td>\n",
              "      <td>Negativ</td>\n",
              "    </tr>\n",
              "    <tr>\n",
              "      <th>2</th>\n",
              "      <td>ABANDONMENT</td>\n",
              "      <td>H4</td>\n",
              "      <td>NaN</td>\n",
              "      <td>Negativ</td>\n",
              "    </tr>\n",
              "    <tr>\n",
              "      <th>3</th>\n",
              "      <td>ABATE</td>\n",
              "      <td>H4Lvd</td>\n",
              "      <td>NaN</td>\n",
              "      <td>Negativ</td>\n",
              "    </tr>\n",
              "    <tr>\n",
              "      <th>4</th>\n",
              "      <td>ABATEMENT</td>\n",
              "      <td>Lvd</td>\n",
              "      <td>NaN</td>\n",
              "      <td>NaN</td>\n",
              "    </tr>\n",
              "    <tr>\n",
              "      <th>5</th>\n",
              "      <td>ABDICATE</td>\n",
              "      <td>H4</td>\n",
              "      <td>NaN</td>\n",
              "      <td>Negativ</td>\n",
              "    </tr>\n",
              "    <tr>\n",
              "      <th>6</th>\n",
              "      <td>ABHOR</td>\n",
              "      <td>H4</td>\n",
              "      <td>NaN</td>\n",
              "      <td>Negativ</td>\n",
              "    </tr>\n",
              "    <tr>\n",
              "      <th>7</th>\n",
              "      <td>ABIDE</td>\n",
              "      <td>H4</td>\n",
              "      <td>Positiv</td>\n",
              "      <td>NaN</td>\n",
              "    </tr>\n",
              "    <tr>\n",
              "      <th>8</th>\n",
              "      <td>ABILITY</td>\n",
              "      <td>H4Lvd</td>\n",
              "      <td>Positiv</td>\n",
              "      <td>NaN</td>\n",
              "    </tr>\n",
              "    <tr>\n",
              "      <th>9</th>\n",
              "      <td>ABJECT</td>\n",
              "      <td>H4</td>\n",
              "      <td>NaN</td>\n",
              "      <td>Negativ</td>\n",
              "    </tr>\n",
              "  </tbody>\n",
              "</table>\n",
              "</div>"
            ],
            "text/plain": [
              "         Entry Source  Positiv  Negativ\n",
              "0            A  H4Lvd      NaN      NaN\n",
              "1      ABANDON  H4Lvd      NaN  Negativ\n",
              "2  ABANDONMENT     H4      NaN  Negativ\n",
              "3        ABATE  H4Lvd      NaN  Negativ\n",
              "4    ABATEMENT    Lvd      NaN      NaN\n",
              "5     ABDICATE     H4      NaN  Negativ\n",
              "6        ABHOR     H4      NaN  Negativ\n",
              "7        ABIDE     H4  Positiv      NaN\n",
              "8      ABILITY  H4Lvd  Positiv      NaN\n",
              "9       ABJECT     H4      NaN  Negativ"
            ]
          },
          "metadata": {
            "tags": []
          },
          "execution_count": 68
        }
      ]
    },
    {
      "cell_type": "code",
      "metadata": {
        "id": "mBp59mEWqW9o",
        "colab_type": "code",
        "outputId": "fbd535ba-df88-476f-f3d3-de70d4fc48c8",
        "colab": {
          "base_uri": "https://localhost:8080/",
          "height": 34
        }
      },
      "source": [
        "# make list of sentiment\n",
        "#Positiv word list   \n",
        "\n",
        "temp_Positiv = []\n",
        "Positiv_word_list = []\n",
        "for i in range(0,len(word_table.Positiv)):\n",
        "    if word_table.iloc[i,2] == \"Positiv\":\n",
        "        temp = word_table.iloc[i,0].lower()\n",
        "        temp1 = re.sub('\\d+', '', temp)\n",
        "        temp2 = re.sub('#', '', temp1) \n",
        "        temp_Positiv.append(temp2)\n",
        "\n",
        "Positiv_word_list = list(set(temp_Positiv))\n",
        "len(temp_Positiv)\n",
        "len(Positiv_word_list)"
      ],
      "execution_count": 0,
      "outputs": [
        {
          "output_type": "execute_result",
          "data": {
            "text/plain": [
              "1637"
            ]
          },
          "metadata": {
            "tags": []
          },
          "execution_count": 69
        }
      ]
    },
    {
      "cell_type": "code",
      "metadata": {
        "id": "B_jwNUyKqcWx",
        "colab_type": "code",
        "outputId": "817d29bd-c0e6-48de-a426-d908a2183456",
        "colab": {
          "base_uri": "https://localhost:8080/",
          "height": 34
        }
      },
      "source": [
        "#Negativ word list \n",
        "\n",
        "temp_Negativ = []\n",
        "Negativ_word_list = []\n",
        "for i in range(0,len(word_table.Negativ)):\n",
        "    if word_table.iloc[i,3] == \"Negativ\":\n",
        "        temp = word_table.iloc[i,0].lower()\n",
        "        temp1 = re.sub('\\d+', '', temp)\n",
        "        temp2 = re.sub('#', '', temp1) \n",
        "        temp_Negativ.append(temp2)\n",
        "\n",
        "Negativ_word_list = list(set(temp_Negativ))\n",
        "len(temp_Negativ)\n",
        "len(Negativ_word_list)"
      ],
      "execution_count": 0,
      "outputs": [
        {
          "output_type": "execute_result",
          "data": {
            "text/plain": [
              "2006"
            ]
          },
          "metadata": {
            "tags": []
          },
          "execution_count": 70
        }
      ]
    },
    {
      "cell_type": "code",
      "metadata": {
        "id": "k8sDDDlNqhua",
        "colab_type": "code",
        "colab": {}
      },
      "source": [
        "##2. counting the word 98590\n",
        "\n",
        "import numpy as np\n",
        "from sklearn.feature_extraction.text import CountVectorizer\n",
        "\n",
        "vectorizer = CountVectorizer(vocabulary = Positiv_word_list)\n",
        "content = df_test['review_clean']\n",
        "X = vectorizer.fit_transform(content)\n",
        "f = X.toarray()\n",
        "f = pd.DataFrame(f)\n",
        "f.columns=Positiv_word_list\n",
        "df_test[\"num_Positiv_word\"] = f.sum(axis=1)\n",
        "\n",
        "vectorizer2 = CountVectorizer(vocabulary = Negativ_word_list)\n",
        "content = df_test['review_clean']\n",
        "X2 = vectorizer2.fit_transform(content)\n",
        "f2 = X2.toarray()\n",
        "f2 = pd.DataFrame(f2)\n",
        "f2.columns=Negativ_word_list\n",
        "df_test[\"num_Negativ_word\"] = f2.sum(axis=1)"
      ],
      "execution_count": 0,
      "outputs": []
    },
    {
      "cell_type": "code",
      "metadata": {
        "id": "Fq5YOVCSrDT-",
        "colab_type": "code",
        "colab": {}
      },
      "source": [
        ""
      ],
      "execution_count": 0,
      "outputs": []
    },
    {
      "cell_type": "code",
      "metadata": {
        "id": "vLMuGcxTq05I",
        "colab_type": "code",
        "outputId": "9d5968a1-6636-4c17-8b3b-c2aab888003a",
        "colab": {
          "base_uri": "https://localhost:8080/",
          "height": 598
        }
      },
      "source": [
        "# decide sentiment\n",
        "df_test[\"Positiv_ratio\"] = df_test[\"num_Positiv_word\"]/(df_test[\"num_Positiv_word\"]+df_test[\"num_Negativ_word\"])\n",
        "df_test[\"sentiment_by_dic\"] = df_test[\"Positiv_ratio\"].apply(lambda x: 1 if (x>=0.5) else (0 if (x<0.5) else 0.5))\n",
        "\n",
        "df_test.head()\n"
      ],
      "execution_count": 0,
      "outputs": [
        {
          "output_type": "execute_result",
          "data": {
            "text/html": [
              "<div>\n",
              "<style scoped>\n",
              "    .dataframe tbody tr th:only-of-type {\n",
              "        vertical-align: middle;\n",
              "    }\n",
              "\n",
              "    .dataframe tbody tr th {\n",
              "        vertical-align: top;\n",
              "    }\n",
              "\n",
              "    .dataframe thead th {\n",
              "        text-align: right;\n",
              "    }\n",
              "</style>\n",
              "<table border=\"1\" class=\"dataframe\">\n",
              "  <thead>\n",
              "    <tr style=\"text-align: right;\">\n",
              "      <th></th>\n",
              "      <th>uniqueID</th>\n",
              "      <th>drugName</th>\n",
              "      <th>condition</th>\n",
              "      <th>review</th>\n",
              "      <th>rating</th>\n",
              "      <th>date</th>\n",
              "      <th>usefulCount</th>\n",
              "      <th>review_clean</th>\n",
              "      <th>sentiment</th>\n",
              "      <th>Year</th>\n",
              "      <th>month</th>\n",
              "      <th>day</th>\n",
              "      <th>day_of_week</th>\n",
              "      <th>season</th>\n",
              "      <th>num_Positiv_word</th>\n",
              "      <th>num_Negativ_word</th>\n",
              "      <th>Positiv_ratio</th>\n",
              "      <th>sentiment_by_dic</th>\n",
              "    </tr>\n",
              "  </thead>\n",
              "  <tbody>\n",
              "    <tr>\n",
              "      <th>149492</th>\n",
              "      <td>126702</td>\n",
              "      <td>Brimonidine</td>\n",
              "      <td>Rosacea</td>\n",
              "      <td>\"Never , never , never use this cream !!!!!! I...</td>\n",
              "      <td>1</td>\n",
              "      <td>2015-08-31</td>\n",
              "      <td>17</td>\n",
              "      <td>never never never use cream help way angri dis...</td>\n",
              "      <td>0</td>\n",
              "      <td>2015</td>\n",
              "      <td>8</td>\n",
              "      <td>31</td>\n",
              "      <td>Monday</td>\n",
              "      <td>2</td>\n",
              "      <td>NaN</td>\n",
              "      <td>NaN</td>\n",
              "      <td>NaN</td>\n",
              "      <td>0.5</td>\n",
              "    </tr>\n",
              "    <tr>\n",
              "      <th>36737</th>\n",
              "      <td>84765</td>\n",
              "      <td>Ethinyl estradiol / norgestimate</td>\n",
              "      <td>Birth Control</td>\n",
              "      <td>\"I was switched to this after about 9 months o...</td>\n",
              "      <td>10</td>\n",
              "      <td>2016-05-01</td>\n",
              "      <td>3</td>\n",
              "      <td>switch month mononessa ask switch happen anywa...</td>\n",
              "      <td>1</td>\n",
              "      <td>2016</td>\n",
              "      <td>5</td>\n",
              "      <td>1</td>\n",
              "      <td>Sunday</td>\n",
              "      <td>1</td>\n",
              "      <td>4.0</td>\n",
              "      <td>15.0</td>\n",
              "      <td>0.210526</td>\n",
              "      <td>0.0</td>\n",
              "    </tr>\n",
              "    <tr>\n",
              "      <th>87556</th>\n",
              "      <td>71559</td>\n",
              "      <td>Vraylar</td>\n",
              "      <td>Bipolar Disorde</td>\n",
              "      <td>\"I began at 1.5 then titrated to 3mg dosage. A...</td>\n",
              "      <td>3</td>\n",
              "      <td>2016-08-17</td>\n",
              "      <td>17</td>\n",
              "      <td>began titrat mg dosag first love medicin compl...</td>\n",
              "      <td>0</td>\n",
              "      <td>2016</td>\n",
              "      <td>8</td>\n",
              "      <td>17</td>\n",
              "      <td>Wednesday</td>\n",
              "      <td>2</td>\n",
              "      <td>NaN</td>\n",
              "      <td>NaN</td>\n",
              "      <td>NaN</td>\n",
              "      <td>0.5</td>\n",
              "    </tr>\n",
              "    <tr>\n",
              "      <th>44851</th>\n",
              "      <td>132320</td>\n",
              "      <td>Ativan</td>\n",
              "      <td>Anxiety</td>\n",
              "      <td>\"Ativan 0.5mg calms me down considerably withi...</td>\n",
              "      <td>5</td>\n",
              "      <td>2012-01-12</td>\n",
              "      <td>26</td>\n",
              "      <td>ativan mg calm consider within minut side effe...</td>\n",
              "      <td>0</td>\n",
              "      <td>2012</td>\n",
              "      <td>1</td>\n",
              "      <td>12</td>\n",
              "      <td>Thursday</td>\n",
              "      <td>4</td>\n",
              "      <td>7.0</td>\n",
              "      <td>6.0</td>\n",
              "      <td>0.538462</td>\n",
              "      <td>1.0</td>\n",
              "    </tr>\n",
              "    <tr>\n",
              "      <th>91917</th>\n",
              "      <td>177278</td>\n",
              "      <td>Duloxetine</td>\n",
              "      <td>Generalized Anxiety Disorde</td>\n",
              "      <td>\"My thoughts on Cymbalta: Cymbalta has left me...</td>\n",
              "      <td>1</td>\n",
              "      <td>2017-05-03</td>\n",
              "      <td>29</td>\n",
              "      <td>thought cymbalta cymbalta left fog no feel non...</td>\n",
              "      <td>0</td>\n",
              "      <td>2017</td>\n",
              "      <td>5</td>\n",
              "      <td>3</td>\n",
              "      <td>Wednesday</td>\n",
              "      <td>1</td>\n",
              "      <td>NaN</td>\n",
              "      <td>NaN</td>\n",
              "      <td>NaN</td>\n",
              "      <td>0.5</td>\n",
              "    </tr>\n",
              "  </tbody>\n",
              "</table>\n",
              "</div>"
            ],
            "text/plain": [
              "        uniqueID  ... sentiment_by_dic\n",
              "149492    126702  ...              0.5\n",
              "36737      84765  ...              0.0\n",
              "87556      71559  ...              0.5\n",
              "44851     132320  ...              1.0\n",
              "91917     177278  ...              0.5\n",
              "\n",
              "[5 rows x 18 columns]"
            ]
          },
          "metadata": {
            "tags": []
          },
          "execution_count": 73
        }
      ]
    },
    {
      "cell_type": "code",
      "metadata": {
        "id": "wkc4A0d4rF9k",
        "colab_type": "code",
        "colab": {}
      },
      "source": [
        "def userful_count(data):\n",
        "    grouped = data.groupby(['condition']).size().reset_index(name='user_size')\n",
        "    data = pd.merge(data, grouped, on='condition', how='left')\n",
        "    return data\n",
        "\n",
        "df_test =  userful_count(df_test) \n",
        "df_test['usefulCount'] = df_test['usefulCount']/df_test['user_size']"
      ],
      "execution_count": 0,
      "outputs": []
    },
    {
      "cell_type": "code",
      "metadata": {
        "id": "EoQwzemmrJtv",
        "colab_type": "code",
        "colab": {}
      },
      "source": [
        "df_test['deep_pred'] = sub_preds_deep\n",
        "df_test['machine_pred'] = sub_preds_deep\n",
        "\n",
        "df_test['total_pred'] = (df_test['deep_pred'] + df_test['machine_pred'] + df_test['sentiment_by_dic'])*df_test['usefulCount']"
      ],
      "execution_count": 0,
      "outputs": []
    },
    {
      "cell_type": "code",
      "metadata": {
        "id": "j6uV4eLfrbQ6",
        "colab_type": "code",
        "outputId": "c808d2d8-4959-4055-8375-62dd52f76fe5",
        "colab": {
          "base_uri": "https://localhost:8080/",
          "height": 2031
        }
      },
      "source": [
        "df_test = df_test.groupby(['condition','drugName']).agg({'total_pred' : ['mean']})\n",
        "df_test"
      ],
      "execution_count": 0,
      "outputs": [
        {
          "output_type": "execute_result",
          "data": {
            "text/html": [
              "<div>\n",
              "<style scoped>\n",
              "    .dataframe tbody tr th:only-of-type {\n",
              "        vertical-align: middle;\n",
              "    }\n",
              "\n",
              "    .dataframe tbody tr th {\n",
              "        vertical-align: top;\n",
              "    }\n",
              "\n",
              "    .dataframe thead tr th {\n",
              "        text-align: left;\n",
              "    }\n",
              "\n",
              "    .dataframe thead tr:last-of-type th {\n",
              "        text-align: right;\n",
              "    }\n",
              "</style>\n",
              "<table border=\"1\" class=\"dataframe\">\n",
              "  <thead>\n",
              "    <tr>\n",
              "      <th></th>\n",
              "      <th></th>\n",
              "      <th>total_pred</th>\n",
              "    </tr>\n",
              "    <tr>\n",
              "      <th></th>\n",
              "      <th></th>\n",
              "      <th>mean</th>\n",
              "    </tr>\n",
              "    <tr>\n",
              "      <th>condition</th>\n",
              "      <th>drugName</th>\n",
              "      <th></th>\n",
              "    </tr>\n",
              "  </thead>\n",
              "  <tbody>\n",
              "    <tr>\n",
              "      <th rowspan=\"30\" valign=\"top\">ADHD</th>\n",
              "      <th>Adderall</th>\n",
              "      <td>0.062974</td>\n",
              "    </tr>\n",
              "    <tr>\n",
              "      <th>Adderall XR</th>\n",
              "      <td>0.033902</td>\n",
              "    </tr>\n",
              "    <tr>\n",
              "      <th>Adzenys XR-ODT</th>\n",
              "      <td>0.007920</td>\n",
              "    </tr>\n",
              "    <tr>\n",
              "      <th>Amantadine</th>\n",
              "      <td>0.010693</td>\n",
              "    </tr>\n",
              "    <tr>\n",
              "      <th>Amphetamine</th>\n",
              "      <td>0.013033</td>\n",
              "    </tr>\n",
              "    <tr>\n",
              "      <th>Amphetamine / dextroamphetamine</th>\n",
              "      <td>0.040462</td>\n",
              "    </tr>\n",
              "    <tr>\n",
              "      <th>Aptensio XR</th>\n",
              "      <td>0.006355</td>\n",
              "    </tr>\n",
              "    <tr>\n",
              "      <th>Armodafinil</th>\n",
              "      <td>0.027571</td>\n",
              "    </tr>\n",
              "    <tr>\n",
              "      <th>Atomoxetine</th>\n",
              "      <td>0.045025</td>\n",
              "    </tr>\n",
              "    <tr>\n",
              "      <th>Bupropion</th>\n",
              "      <td>0.064300</td>\n",
              "    </tr>\n",
              "    <tr>\n",
              "      <th>Catapres</th>\n",
              "      <td>0.051660</td>\n",
              "    </tr>\n",
              "    <tr>\n",
              "      <th>Clonidine</th>\n",
              "      <td>0.046737</td>\n",
              "    </tr>\n",
              "    <tr>\n",
              "      <th>Concerta</th>\n",
              "      <td>0.054173</td>\n",
              "    </tr>\n",
              "    <tr>\n",
              "      <th>Cylert</th>\n",
              "      <td>0.011518</td>\n",
              "    </tr>\n",
              "    <tr>\n",
              "      <th>Daytrana</th>\n",
              "      <td>0.025375</td>\n",
              "    </tr>\n",
              "    <tr>\n",
              "      <th>Desoxyn</th>\n",
              "      <td>0.117647</td>\n",
              "    </tr>\n",
              "    <tr>\n",
              "      <th>Desvenlafaxine</th>\n",
              "      <td>0.000004</td>\n",
              "    </tr>\n",
              "    <tr>\n",
              "      <th>Dexedrine</th>\n",
              "      <td>0.052566</td>\n",
              "    </tr>\n",
              "    <tr>\n",
              "      <th>Dexmethylphenidate</th>\n",
              "      <td>0.037549</td>\n",
              "    </tr>\n",
              "    <tr>\n",
              "      <th>Dextroamphetamine</th>\n",
              "      <td>0.039448</td>\n",
              "    </tr>\n",
              "    <tr>\n",
              "      <th>Dextrostat</th>\n",
              "      <td>0.028415</td>\n",
              "    </tr>\n",
              "    <tr>\n",
              "      <th>Dyanavel XR</th>\n",
              "      <td>0.013153</td>\n",
              "    </tr>\n",
              "    <tr>\n",
              "      <th>Evekeo</th>\n",
              "      <td>0.006473</td>\n",
              "    </tr>\n",
              "    <tr>\n",
              "      <th>Focalin</th>\n",
              "      <td>0.039290</td>\n",
              "    </tr>\n",
              "    <tr>\n",
              "      <th>Focalin XR</th>\n",
              "      <td>0.040924</td>\n",
              "    </tr>\n",
              "    <tr>\n",
              "      <th>Guanfacine</th>\n",
              "      <td>0.060627</td>\n",
              "    </tr>\n",
              "    <tr>\n",
              "      <th>Intuniv</th>\n",
              "      <td>0.065955</td>\n",
              "    </tr>\n",
              "    <tr>\n",
              "      <th>Kapvay</th>\n",
              "      <td>0.090651</td>\n",
              "    </tr>\n",
              "    <tr>\n",
              "      <th>Lisdexamfetamine</th>\n",
              "      <td>0.040106</td>\n",
              "    </tr>\n",
              "    <tr>\n",
              "      <th>Metadate CD</th>\n",
              "      <td>0.034081</td>\n",
              "    </tr>\n",
              "    <tr>\n",
              "      <th>...</th>\n",
              "      <th>...</th>\n",
              "      <td>...</td>\n",
              "    </tr>\n",
              "    <tr>\n",
              "      <th rowspan=\"17\" valign=\"top\">ibromyalgia</th>\n",
              "      <th>Nuvigil</th>\n",
              "      <td>0.154420</td>\n",
              "    </tr>\n",
              "    <tr>\n",
              "      <th>Prednisone</th>\n",
              "      <td>0.070940</td>\n",
              "    </tr>\n",
              "    <tr>\n",
              "      <th>Pregabalin</th>\n",
              "      <td>0.128795</td>\n",
              "    </tr>\n",
              "    <tr>\n",
              "      <th>Pristiq</th>\n",
              "      <td>0.081724</td>\n",
              "    </tr>\n",
              "    <tr>\n",
              "      <th>Prozac</th>\n",
              "      <td>0.204572</td>\n",
              "    </tr>\n",
              "    <tr>\n",
              "      <th>Savella</th>\n",
              "      <td>0.104699</td>\n",
              "    </tr>\n",
              "    <tr>\n",
              "      <th>Skelaxin</th>\n",
              "      <td>0.083164</td>\n",
              "    </tr>\n",
              "    <tr>\n",
              "      <th>Sodium oxybate</th>\n",
              "      <td>0.072285</td>\n",
              "    </tr>\n",
              "    <tr>\n",
              "      <th>Sterapred DS</th>\n",
              "      <td>0.035624</td>\n",
              "    </tr>\n",
              "    <tr>\n",
              "      <th>Topamax</th>\n",
              "      <td>0.049618</td>\n",
              "    </tr>\n",
              "    <tr>\n",
              "      <th>Topiramate</th>\n",
              "      <td>0.041141</td>\n",
              "    </tr>\n",
              "    <tr>\n",
              "      <th>Tramadol</th>\n",
              "      <td>0.087819</td>\n",
              "    </tr>\n",
              "    <tr>\n",
              "      <th>Trazodone</th>\n",
              "      <td>0.043790</td>\n",
              "    </tr>\n",
              "    <tr>\n",
              "      <th>Ultram</th>\n",
              "      <td>0.053524</td>\n",
              "    </tr>\n",
              "    <tr>\n",
              "      <th>Ultram ER</th>\n",
              "      <td>0.085954</td>\n",
              "    </tr>\n",
              "    <tr>\n",
              "      <th>Venlafaxine</th>\n",
              "      <td>0.058497</td>\n",
              "    </tr>\n",
              "    <tr>\n",
              "      <th>Xyrem</th>\n",
              "      <td>0.217573</td>\n",
              "    </tr>\n",
              "    <tr>\n",
              "      <th rowspan=\"2\" valign=\"top\">lic Acid Deficiency</th>\n",
              "      <th>Deplin</th>\n",
              "      <td>7.878032</td>\n",
              "    </tr>\n",
              "    <tr>\n",
              "      <th>L-methylfolate</th>\n",
              "      <td>8.154686</td>\n",
              "    </tr>\n",
              "    <tr>\n",
              "      <th>m Pain Disorde</th>\n",
              "      <th>Milnacipran</th>\n",
              "      <td>0.000000</td>\n",
              "    </tr>\n",
              "    <tr>\n",
              "      <th rowspan=\"5\" valign=\"top\">min)</th>\n",
              "      <th>Alogliptin / metformin</th>\n",
              "      <td>0.196200</td>\n",
              "    </tr>\n",
              "    <tr>\n",
              "      <th>Dapagliflozin / metformin</th>\n",
              "      <td>0.210023</td>\n",
              "    </tr>\n",
              "    <tr>\n",
              "      <th>Empagliflozin / metformin</th>\n",
              "      <td>1.249960</td>\n",
              "    </tr>\n",
              "    <tr>\n",
              "      <th>Linagliptin / metformin</th>\n",
              "      <td>0.610623</td>\n",
              "    </tr>\n",
              "    <tr>\n",
              "      <th>Metformin</th>\n",
              "      <td>7.444604</td>\n",
              "    </tr>\n",
              "    <tr>\n",
              "      <th rowspan=\"2\" valign=\"top\">moterol)</th>\n",
              "      <th>Arformoterol</th>\n",
              "      <td>2.224846</td>\n",
              "    </tr>\n",
              "    <tr>\n",
              "      <th>Budesonide / formoterol</th>\n",
              "      <td>1.923560</td>\n",
              "    </tr>\n",
              "    <tr>\n",
              "      <th>von Willebrand's Disease</th>\n",
              "      <th>Stimate</th>\n",
              "      <td>0.012668</td>\n",
              "    </tr>\n",
              "    <tr>\n",
              "      <th rowspan=\"2\" valign=\"top\">zen Shoulde</th>\n",
              "      <th>Nabumetone</th>\n",
              "      <td>18.828114</td>\n",
              "    </tr>\n",
              "    <tr>\n",
              "      <th>Naproxen</th>\n",
              "      <td>1.575933</td>\n",
              "    </tr>\n",
              "  </tbody>\n",
              "</table>\n",
              "<p>5773 rows × 1 columns</p>\n",
              "</div>"
            ],
            "text/plain": [
              "                                                         total_pred\n",
              "                                                               mean\n",
              "condition                drugName                                  \n",
              "ADHD                     Adderall                          0.062974\n",
              "                         Adderall XR                       0.033902\n",
              "                         Adzenys XR-ODT                    0.007920\n",
              "                         Amantadine                        0.010693\n",
              "                         Amphetamine                       0.013033\n",
              "                         Amphetamine / dextroamphetamine   0.040462\n",
              "                         Aptensio XR                       0.006355\n",
              "                         Armodafinil                       0.027571\n",
              "                         Atomoxetine                       0.045025\n",
              "                         Bupropion                         0.064300\n",
              "                         Catapres                          0.051660\n",
              "                         Clonidine                         0.046737\n",
              "                         Concerta                          0.054173\n",
              "                         Cylert                            0.011518\n",
              "                         Daytrana                          0.025375\n",
              "                         Desoxyn                           0.117647\n",
              "                         Desvenlafaxine                    0.000004\n",
              "                         Dexedrine                         0.052566\n",
              "                         Dexmethylphenidate                0.037549\n",
              "                         Dextroamphetamine                 0.039448\n",
              "                         Dextrostat                        0.028415\n",
              "                         Dyanavel XR                       0.013153\n",
              "                         Evekeo                            0.006473\n",
              "                         Focalin                           0.039290\n",
              "                         Focalin XR                        0.040924\n",
              "                         Guanfacine                        0.060627\n",
              "                         Intuniv                           0.065955\n",
              "                         Kapvay                            0.090651\n",
              "                         Lisdexamfetamine                  0.040106\n",
              "                         Metadate CD                       0.034081\n",
              "...                                                             ...\n",
              "ibromyalgia              Nuvigil                           0.154420\n",
              "                         Prednisone                        0.070940\n",
              "                         Pregabalin                        0.128795\n",
              "                         Pristiq                           0.081724\n",
              "                         Prozac                            0.204572\n",
              "                         Savella                           0.104699\n",
              "                         Skelaxin                          0.083164\n",
              "                         Sodium oxybate                    0.072285\n",
              "                         Sterapred DS                      0.035624\n",
              "                         Topamax                           0.049618\n",
              "                         Topiramate                        0.041141\n",
              "                         Tramadol                          0.087819\n",
              "                         Trazodone                         0.043790\n",
              "                         Ultram                            0.053524\n",
              "                         Ultram ER                         0.085954\n",
              "                         Venlafaxine                       0.058497\n",
              "                         Xyrem                             0.217573\n",
              "lic Acid Deficiency      Deplin                            7.878032\n",
              "                         L-methylfolate                    8.154686\n",
              "m Pain Disorde           Milnacipran                       0.000000\n",
              "min)                     Alogliptin / metformin            0.196200\n",
              "                         Dapagliflozin / metformin         0.210023\n",
              "                         Empagliflozin / metformin         1.249960\n",
              "                         Linagliptin / metformin           0.610623\n",
              "                         Metformin                         7.444604\n",
              "moterol)                 Arformoterol                      2.224846\n",
              "                         Budesonide / formoterol           1.923560\n",
              "von Willebrand's Disease Stimate                           0.012668\n",
              "zen Shoulde              Nabumetone                       18.828114\n",
              "                         Naproxen                          1.575933\n",
              "\n",
              "[5773 rows x 1 columns]"
            ]
          },
          "metadata": {
            "tags": []
          },
          "execution_count": 77
        }
      ]
    },
    {
      "cell_type": "code",
      "metadata": {
        "id": "Ko-3OW3trvpp",
        "colab_type": "code",
        "outputId": "b0554ac1-9160-4faf-c9dd-025a9e38567b",
        "colab": {
          "base_uri": "https://localhost:8080/",
          "height": 603
        }
      },
      "source": [
        "# a pie chart to represent the sentiments of the patients\n",
        "\n",
        "size = [161491, 53572]\n",
        "colors = ['yellow', 'skyblue']\n",
        "labels = \"Positive Sentiment\",\"Negative Sentiment\"\n",
        "explode = [0, 0.1]\n",
        "\n",
        "plt.rcParams['figure.figsize'] = (10, 10)\n",
        "plt.pie(size, colors = colors, labels = labels, explode = explode, autopct = '%.2f%%')\n",
        "plt.axis('off')\n",
        "plt.title('A Pie Chart Representing the Sentiments of Patients', fontsize = 30)\n",
        "plt.legend()\n",
        "plt.show()"
      ],
      "execution_count": 0,
      "outputs": [
        {
          "output_type": "display_data",
          "data": {
            "image/png": "[encoded data removed]",
            "text/plain": [
              "<Figure size 720x720 with 1 Axes>"
            ]
          },
          "metadata": {
            "tags": []
          }
        }
      ]
    },
    {
      "cell_type": "code",
      "metadata": {
        "id": "byTkrEexrKaf",
        "colab_type": "code",
        "colab": {}
      },
      "source": [
        ""
      ],
      "execution_count": 0,
      "outputs": []
    }
  ]
}